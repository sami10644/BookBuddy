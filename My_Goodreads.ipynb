{
  "cells": [
    {
      "cell_type": "markdown",
      "metadata": {
        "id": "view-in-github",
        "colab_type": "text"
      },
      "source": [
        "<a href=\"https://colab.research.google.com/github/sami10644/BookBuddy/blob/main/My_Goodreads.ipynb\" target=\"_parent\"><img src=\"https://colab.research.google.com/assets/colab-badge.svg\" alt=\"Open In Colab\"/></a>"
      ]
    },
    {
      "cell_type": "code",
      "execution_count": null,
      "id": "1905f4e6",
      "metadata": {
        "scrolled": true,
        "id": "1905f4e6",
        "outputId": "d5a8df9b-c664-4629-c64a-ef34ff6d8235",
        "colab": {
          "base_uri": "https://localhost:8080/",
          "height": 90
        }
      },
      "outputs": [
        {
          "output_type": "execute_result",
          "data": {
            "text/plain": [
              "' The model will take the description of a book, and put it into a catergory. That catergory would match with the publisher\\nthat published the book. The model should be able to predice which category a new book belongs to when given the description for that book. \\nNote these categories are not genres, but it is a caterigorization system that matches certain descriptions with publishers.\\nThe real world effect of this project would be to have an author use this model and their description of their book to\\nfind a publisher that is most likely going to publish their book, based on the publishers history of published book. '"
            ],
            "application/vnd.google.colaboratory.intrinsic+json": {
              "type": "string"
            }
          },
          "metadata": {},
          "execution_count": 4
        }
      ],
      "source": [
        "''' Objective: create a model that can take a description of a book and match it with a publisher'''\n",
        "\n",
        "''' The model will take the description of a book, and put it into a catergory. That catergory would match with the publisher\n",
        "that published the book. The model should be able to predice which category a new book belongs to when given the description for that book.\n",
        "Note these categories are not genres, but it is a caterigorization system that matches certain descriptions with publishers.\n",
        "The real world effect of this project would be to have an author use this model and their description of their book to\n",
        "find a publisher that is most likely going to publish their book, based on the publishers history of published book. '''"
      ]
    },
    {
      "cell_type": "code",
      "execution_count": null,
      "id": "f4c02764",
      "metadata": {
        "id": "f4c02764"
      },
      "outputs": [],
      "source": [
        "import pandas as pd\n",
        "import numpy as np\n",
        "import matplotlib.pyplot as plt\n",
        "import seaborn as sns\n",
        "from statistics import mean\n",
        "import os\n",
        "import glob\n",
        "from pathlib import Path\n",
        "# from langdetect import detect"
      ]
    },
    {
      "cell_type": "code",
      "execution_count": null,
      "id": "4f067ddd",
      "metadata": {
        "id": "4f067ddd"
      },
      "outputs": [],
      "source": []
    },
    {
      "cell_type": "code",
      "execution_count": null,
      "id": "83b8a4ef",
      "metadata": {
        "id": "83b8a4ef",
        "outputId": "4dbdef97-aace-4bf3-8afc-eabaf3d7ac63",
        "colab": {
          "base_uri": "https://localhost:8080/"
        }
      },
      "outputs": [
        {
          "output_type": "stream",
          "name": "stdout",
          "text": [
            "<class 'pandas.core.frame.DataFrame'>\n",
            "RangeIndex: 33439 entries, 0 to 33438\n",
            "Data columns (total 20 columns):\n",
            " #   Column                 Non-Null Count  Dtype  \n",
            "---  ------                 --------------  -----  \n",
            " 0   Id                     33439 non-null  int64  \n",
            " 1   Name                   33439 non-null  object \n",
            " 2   Authors                33439 non-null  object \n",
            " 3   ISBN                   33323 non-null  object \n",
            " 4   Rating                 33439 non-null  float64\n",
            " 5   PublishYear            33439 non-null  int64  \n",
            " 6   PublishMonth           33439 non-null  int64  \n",
            " 7   PublishDay             33439 non-null  int64  \n",
            " 8   Publisher              33065 non-null  object \n",
            " 9   RatingDist5            33439 non-null  object \n",
            " 10  RatingDist4            33439 non-null  object \n",
            " 11  RatingDist3            33439 non-null  object \n",
            " 12  RatingDist2            33439 non-null  object \n",
            " 13  RatingDist1            33439 non-null  object \n",
            " 14  RatingDistTotal        33439 non-null  object \n",
            " 15  CountsOfReview         33439 non-null  int64  \n",
            " 16  Language               5265 non-null   object \n",
            " 17  pagesNumber            33439 non-null  int64  \n",
            " 18  Description            27975 non-null  object \n",
            " 19  Count of text reviews  33439 non-null  int64  \n",
            "dtypes: float64(1), int64(7), object(12)\n",
            "memory usage: 5.1+ MB\n"
          ]
        }
      ],
      "source": [
        "# the goal for this line of code is to take all the good read files and combine it into one : credit sam partee https://www.kaggle.com/spartee\n",
        "df = pd.read_csv('book1500k-1600k.csv')\n",
        "df.info()"
      ]
    },
    {
      "cell_type": "code",
      "execution_count": null,
      "id": "9c3d7690",
      "metadata": {
        "scrolled": true,
        "id": "9c3d7690",
        "colab": {
          "base_uri": "https://localhost:8080/",
          "height": 669
        },
        "outputId": "4c5e6e79-6316-48a5-ba77-1a3cd799d183"
      },
      "outputs": [
        {
          "output_type": "execute_result",
          "data": {
            "text/plain": [
              "        Id                                               Name  \\\n",
              "0  1500001              Go For It!: Finding Your Own Frontier   \n",
              "1  1500002  Hitler's Spanish Legion: The Blue Division in ...   \n",
              "2  1500003  Practical International Tax Planning, 4th Ed (...   \n",
              "3  1500010  Memsahibs Abroad: Writings by Women Travellers...   \n",
              "4  1500011  The Frail Hero and Virile History: Gender and ...   \n",
              "\n",
              "               Authors        ISBN  Rating  PublishYear  PublishMonth  \\\n",
              "0     Judith Kleinfeld  0972494421    3.00         2003             1   \n",
              "1  Gerald R. Kleinfeld  0809308657    3.96         1979             1   \n",
              "2   Denis A. Kleinfeld  0872241289    0.00         2000             1   \n",
              "3         Indira Ghose  0195644239    3.00         1999            19   \n",
              "4     Indira Chowdhury  0195655311    0.00         2001            31   \n",
              "\n",
              "   PublishDay                           Publisher RatingDist5 RatingDist4  \\\n",
              "0           9                     Epicenter Press         5:0         4:1   \n",
              "1           6  Southern Illinois University Press         5:6        4:15   \n",
              "2          12            Practising Law Institute         5:0         4:0   \n",
              "3           8        Oxford University Press, USA         5:0         4:0   \n",
              "4           7                           Not Avail         5:0         4:0   \n",
              "\n",
              "  RatingDist3 RatingDist2 RatingDist1 RatingDistTotal  CountsOfReview  \\\n",
              "0         3:0         2:1         1:0         total:2               0   \n",
              "1         3:5         2:1         1:0        total:27               2   \n",
              "2         3:0         2:0         1:0         total:0               0   \n",
              "3         3:1         2:0         1:0         total:1               0   \n",
              "4         3:0         2:0         1:0         total:0               0   \n",
              "\n",
              "  Language  pagesNumber                                        Description  \\\n",
              "0      NaN          192  In the wake of national tragedies and an econo...   \n",
              "1      NaN          464  Though well publicized in Europe, and with eno...   \n",
              "2      NaN         1735  As globalisation accelerates, more tax-advanta...   \n",
              "3      NaN          316  This exciting anthology provides the best of t...   \n",
              "4      NaN          208  Demonstrating the centrality of gender in the ...   \n",
              "\n",
              "   Count of text reviews  \n",
              "0                      0  \n",
              "1                      2  \n",
              "2                      0  \n",
              "3                      0  \n",
              "4                      0  "
            ],
            "text/html": [
              "\n",
              "  <div id=\"df-a4b837e1-433a-42c7-a31f-6397c1fd5b61\">\n",
              "    <div class=\"colab-df-container\">\n",
              "      <div>\n",
              "<style scoped>\n",
              "    .dataframe tbody tr th:only-of-type {\n",
              "        vertical-align: middle;\n",
              "    }\n",
              "\n",
              "    .dataframe tbody tr th {\n",
              "        vertical-align: top;\n",
              "    }\n",
              "\n",
              "    .dataframe thead th {\n",
              "        text-align: right;\n",
              "    }\n",
              "</style>\n",
              "<table border=\"1\" class=\"dataframe\">\n",
              "  <thead>\n",
              "    <tr style=\"text-align: right;\">\n",
              "      <th></th>\n",
              "      <th>Id</th>\n",
              "      <th>Name</th>\n",
              "      <th>Authors</th>\n",
              "      <th>ISBN</th>\n",
              "      <th>Rating</th>\n",
              "      <th>PublishYear</th>\n",
              "      <th>PublishMonth</th>\n",
              "      <th>PublishDay</th>\n",
              "      <th>Publisher</th>\n",
              "      <th>RatingDist5</th>\n",
              "      <th>RatingDist4</th>\n",
              "      <th>RatingDist3</th>\n",
              "      <th>RatingDist2</th>\n",
              "      <th>RatingDist1</th>\n",
              "      <th>RatingDistTotal</th>\n",
              "      <th>CountsOfReview</th>\n",
              "      <th>Language</th>\n",
              "      <th>pagesNumber</th>\n",
              "      <th>Description</th>\n",
              "      <th>Count of text reviews</th>\n",
              "    </tr>\n",
              "  </thead>\n",
              "  <tbody>\n",
              "    <tr>\n",
              "      <th>0</th>\n",
              "      <td>1500001</td>\n",
              "      <td>Go For It!: Finding Your Own Frontier</td>\n",
              "      <td>Judith Kleinfeld</td>\n",
              "      <td>0972494421</td>\n",
              "      <td>3.00</td>\n",
              "      <td>2003</td>\n",
              "      <td>1</td>\n",
              "      <td>9</td>\n",
              "      <td>Epicenter Press</td>\n",
              "      <td>5:0</td>\n",
              "      <td>4:1</td>\n",
              "      <td>3:0</td>\n",
              "      <td>2:1</td>\n",
              "      <td>1:0</td>\n",
              "      <td>total:2</td>\n",
              "      <td>0</td>\n",
              "      <td>NaN</td>\n",
              "      <td>192</td>\n",
              "      <td>In the wake of national tragedies and an econo...</td>\n",
              "      <td>0</td>\n",
              "    </tr>\n",
              "    <tr>\n",
              "      <th>1</th>\n",
              "      <td>1500002</td>\n",
              "      <td>Hitler's Spanish Legion: The Blue Division in ...</td>\n",
              "      <td>Gerald R. Kleinfeld</td>\n",
              "      <td>0809308657</td>\n",
              "      <td>3.96</td>\n",
              "      <td>1979</td>\n",
              "      <td>1</td>\n",
              "      <td>6</td>\n",
              "      <td>Southern Illinois University Press</td>\n",
              "      <td>5:6</td>\n",
              "      <td>4:15</td>\n",
              "      <td>3:5</td>\n",
              "      <td>2:1</td>\n",
              "      <td>1:0</td>\n",
              "      <td>total:27</td>\n",
              "      <td>2</td>\n",
              "      <td>NaN</td>\n",
              "      <td>464</td>\n",
              "      <td>Though well publicized in Europe, and with eno...</td>\n",
              "      <td>2</td>\n",
              "    </tr>\n",
              "    <tr>\n",
              "      <th>2</th>\n",
              "      <td>1500003</td>\n",
              "      <td>Practical International Tax Planning, 4th Ed (...</td>\n",
              "      <td>Denis A. Kleinfeld</td>\n",
              "      <td>0872241289</td>\n",
              "      <td>0.00</td>\n",
              "      <td>2000</td>\n",
              "      <td>1</td>\n",
              "      <td>12</td>\n",
              "      <td>Practising Law Institute</td>\n",
              "      <td>5:0</td>\n",
              "      <td>4:0</td>\n",
              "      <td>3:0</td>\n",
              "      <td>2:0</td>\n",
              "      <td>1:0</td>\n",
              "      <td>total:0</td>\n",
              "      <td>0</td>\n",
              "      <td>NaN</td>\n",
              "      <td>1735</td>\n",
              "      <td>As globalisation accelerates, more tax-advanta...</td>\n",
              "      <td>0</td>\n",
              "    </tr>\n",
              "    <tr>\n",
              "      <th>3</th>\n",
              "      <td>1500010</td>\n",
              "      <td>Memsahibs Abroad: Writings by Women Travellers...</td>\n",
              "      <td>Indira Ghose</td>\n",
              "      <td>0195644239</td>\n",
              "      <td>3.00</td>\n",
              "      <td>1999</td>\n",
              "      <td>19</td>\n",
              "      <td>8</td>\n",
              "      <td>Oxford University Press, USA</td>\n",
              "      <td>5:0</td>\n",
              "      <td>4:0</td>\n",
              "      <td>3:1</td>\n",
              "      <td>2:0</td>\n",
              "      <td>1:0</td>\n",
              "      <td>total:1</td>\n",
              "      <td>0</td>\n",
              "      <td>NaN</td>\n",
              "      <td>316</td>\n",
              "      <td>This exciting anthology provides the best of t...</td>\n",
              "      <td>0</td>\n",
              "    </tr>\n",
              "    <tr>\n",
              "      <th>4</th>\n",
              "      <td>1500011</td>\n",
              "      <td>The Frail Hero and Virile History: Gender and ...</td>\n",
              "      <td>Indira Chowdhury</td>\n",
              "      <td>0195655311</td>\n",
              "      <td>0.00</td>\n",
              "      <td>2001</td>\n",
              "      <td>31</td>\n",
              "      <td>7</td>\n",
              "      <td>Not Avail</td>\n",
              "      <td>5:0</td>\n",
              "      <td>4:0</td>\n",
              "      <td>3:0</td>\n",
              "      <td>2:0</td>\n",
              "      <td>1:0</td>\n",
              "      <td>total:0</td>\n",
              "      <td>0</td>\n",
              "      <td>NaN</td>\n",
              "      <td>208</td>\n",
              "      <td>Demonstrating the centrality of gender in the ...</td>\n",
              "      <td>0</td>\n",
              "    </tr>\n",
              "  </tbody>\n",
              "</table>\n",
              "</div>\n",
              "      <button class=\"colab-df-convert\" onclick=\"convertToInteractive('df-a4b837e1-433a-42c7-a31f-6397c1fd5b61')\"\n",
              "              title=\"Convert this dataframe to an interactive table.\"\n",
              "              style=\"display:none;\">\n",
              "        \n",
              "  <svg xmlns=\"http://www.w3.org/2000/svg\" height=\"24px\"viewBox=\"0 0 24 24\"\n",
              "       width=\"24px\">\n",
              "    <path d=\"M0 0h24v24H0V0z\" fill=\"none\"/>\n",
              "    <path d=\"M18.56 5.44l.94 2.06.94-2.06 2.06-.94-2.06-.94-.94-2.06-.94 2.06-2.06.94zm-11 1L8.5 8.5l.94-2.06 2.06-.94-2.06-.94L8.5 2.5l-.94 2.06-2.06.94zm10 10l.94 2.06.94-2.06 2.06-.94-2.06-.94-.94-2.06-.94 2.06-2.06.94z\"/><path d=\"M17.41 7.96l-1.37-1.37c-.4-.4-.92-.59-1.43-.59-.52 0-1.04.2-1.43.59L10.3 9.45l-7.72 7.72c-.78.78-.78 2.05 0 2.83L4 21.41c.39.39.9.59 1.41.59.51 0 1.02-.2 1.41-.59l7.78-7.78 2.81-2.81c.8-.78.8-2.07 0-2.86zM5.41 20L4 18.59l7.72-7.72 1.47 1.35L5.41 20z\"/>\n",
              "  </svg>\n",
              "      </button>\n",
              "      \n",
              "  <style>\n",
              "    .colab-df-container {\n",
              "      display:flex;\n",
              "      flex-wrap:wrap;\n",
              "      gap: 12px;\n",
              "    }\n",
              "\n",
              "    .colab-df-convert {\n",
              "      background-color: #E8F0FE;\n",
              "      border: none;\n",
              "      border-radius: 50%;\n",
              "      cursor: pointer;\n",
              "      display: none;\n",
              "      fill: #1967D2;\n",
              "      height: 32px;\n",
              "      padding: 0 0 0 0;\n",
              "      width: 32px;\n",
              "    }\n",
              "\n",
              "    .colab-df-convert:hover {\n",
              "      background-color: #E2EBFA;\n",
              "      box-shadow: 0px 1px 2px rgba(60, 64, 67, 0.3), 0px 1px 3px 1px rgba(60, 64, 67, 0.15);\n",
              "      fill: #174EA6;\n",
              "    }\n",
              "\n",
              "    [theme=dark] .colab-df-convert {\n",
              "      background-color: #3B4455;\n",
              "      fill: #D2E3FC;\n",
              "    }\n",
              "\n",
              "    [theme=dark] .colab-df-convert:hover {\n",
              "      background-color: #434B5C;\n",
              "      box-shadow: 0px 1px 3px 1px rgba(0, 0, 0, 0.15);\n",
              "      filter: drop-shadow(0px 1px 2px rgba(0, 0, 0, 0.3));\n",
              "      fill: #FFFFFF;\n",
              "    }\n",
              "  </style>\n",
              "\n",
              "      <script>\n",
              "        const buttonEl =\n",
              "          document.querySelector('#df-a4b837e1-433a-42c7-a31f-6397c1fd5b61 button.colab-df-convert');\n",
              "        buttonEl.style.display =\n",
              "          google.colab.kernel.accessAllowed ? 'block' : 'none';\n",
              "\n",
              "        async function convertToInteractive(key) {\n",
              "          const element = document.querySelector('#df-a4b837e1-433a-42c7-a31f-6397c1fd5b61');\n",
              "          const dataTable =\n",
              "            await google.colab.kernel.invokeFunction('convertToInteractive',\n",
              "                                                     [key], {});\n",
              "          if (!dataTable) return;\n",
              "\n",
              "          const docLinkHtml = 'Like what you see? Visit the ' +\n",
              "            '<a target=\"_blank\" href=https://colab.research.google.com/notebooks/data_table.ipynb>data table notebook</a>'\n",
              "            + ' to learn more about interactive tables.';\n",
              "          element.innerHTML = '';\n",
              "          dataTable['output_type'] = 'display_data';\n",
              "          await google.colab.output.renderOutput(dataTable, element);\n",
              "          const docLink = document.createElement('div');\n",
              "          docLink.innerHTML = docLinkHtml;\n",
              "          element.appendChild(docLink);\n",
              "        }\n",
              "      </script>\n",
              "    </div>\n",
              "  </div>\n",
              "  "
            ]
          },
          "metadata": {},
          "execution_count": 3
        }
      ],
      "source": [
        "# checking the names of all the columns\n",
        "df.head()\n"
      ]
    },
    {
      "cell_type": "code",
      "execution_count": null,
      "id": "92760ce4",
      "metadata": {
        "scrolled": true,
        "id": "92760ce4",
        "colab": {
          "base_uri": "https://localhost:8080/",
          "height": 600
        },
        "outputId": "135861b4-33ca-445f-9acd-701396521f34"
      },
      "outputs": [
        {
          "output_type": "execute_result",
          "data": {
            "text/plain": [
              "            Id                                               Name  \\\n",
              "33434  1599984     Horse & Rider: From Basics to Show Competition   \n",
              "33435  1599985  Legacy: Portraits of 50 Bay Area Environmental...   \n",
              "33436  1599988                    Above Carmel, Monterey  Big Sur   \n",
              "33437  1599989                                     Above Yosemite   \n",
              "33438  1599998                                     Marike's World   \n",
              "\n",
              "                 Authors        ISBN  Rating  PublishYear  PublishMonth  \\\n",
              "33434       Judy Ritcher  0668055693    4.50         1983             1   \n",
              "33435         John  Hart  1578051517    0.00         2005             1   \n",
              "33436  Robert W. Cameron  0918684587    3.20         2000             1   \n",
              "33437  Robert W. Cameron  091868420X    3.94         1983             1   \n",
              "33438   Catherine M. Rae  0312261993    3.54         2000            13   \n",
              "\n",
              "       PublishDay           Publisher RatingDist5 RatingDist4 RatingDist3  \\\n",
              "33434           1                ARCO         5:1         4:1         3:0   \n",
              "33435           9   Sierra Club Books         5:0         4:0         3:0   \n",
              "33436           6       Cameron Books         5:1         4:1         3:2   \n",
              "33437          12       Cameron Books         5:3        4:11         3:1   \n",
              "33438           7  Thomas Dunne Books         5:2         4:5         3:5   \n",
              "\n",
              "      RatingDist2 RatingDist1 RatingDistTotal  CountsOfReview Language  \\\n",
              "33434         2:0         1:0         total:2               0      NaN   \n",
              "33435         2:0         1:0         total:0               0      NaN   \n",
              "33436         2:0         1:1         total:5               0      NaN   \n",
              "33437         2:0         1:1        total:16               2      NaN   \n",
              "33438         2:0         1:1        total:13               3      NaN   \n",
              "\n",
              "       pagesNumber                                        Description  \\\n",
              "33434          146  Discusses acquiring, training, and riding a ho...   \n",
              "33435          160  The San Francisco Bay Area abounds in natural ...   \n",
              "33436           98  Above Carmel, Monterey and Big Sur. Now you ca...   \n",
              "33437          160                                                NaN   \n",
              "33438          192  Just as Marike takes her first adult steps tow...   \n",
              "\n",
              "       Count of text reviews  \n",
              "33434                      0  \n",
              "33435                      0  \n",
              "33436                      0  \n",
              "33437                      2  \n",
              "33438                      3  "
            ],
            "text/html": [
              "\n",
              "  <div id=\"df-435c7f41-1acb-42ca-b066-b6701711a707\">\n",
              "    <div class=\"colab-df-container\">\n",
              "      <div>\n",
              "<style scoped>\n",
              "    .dataframe tbody tr th:only-of-type {\n",
              "        vertical-align: middle;\n",
              "    }\n",
              "\n",
              "    .dataframe tbody tr th {\n",
              "        vertical-align: top;\n",
              "    }\n",
              "\n",
              "    .dataframe thead th {\n",
              "        text-align: right;\n",
              "    }\n",
              "</style>\n",
              "<table border=\"1\" class=\"dataframe\">\n",
              "  <thead>\n",
              "    <tr style=\"text-align: right;\">\n",
              "      <th></th>\n",
              "      <th>Id</th>\n",
              "      <th>Name</th>\n",
              "      <th>Authors</th>\n",
              "      <th>ISBN</th>\n",
              "      <th>Rating</th>\n",
              "      <th>PublishYear</th>\n",
              "      <th>PublishMonth</th>\n",
              "      <th>PublishDay</th>\n",
              "      <th>Publisher</th>\n",
              "      <th>RatingDist5</th>\n",
              "      <th>RatingDist4</th>\n",
              "      <th>RatingDist3</th>\n",
              "      <th>RatingDist2</th>\n",
              "      <th>RatingDist1</th>\n",
              "      <th>RatingDistTotal</th>\n",
              "      <th>CountsOfReview</th>\n",
              "      <th>Language</th>\n",
              "      <th>pagesNumber</th>\n",
              "      <th>Description</th>\n",
              "      <th>Count of text reviews</th>\n",
              "    </tr>\n",
              "  </thead>\n",
              "  <tbody>\n",
              "    <tr>\n",
              "      <th>33434</th>\n",
              "      <td>1599984</td>\n",
              "      <td>Horse &amp; Rider: From Basics to Show Competition</td>\n",
              "      <td>Judy Ritcher</td>\n",
              "      <td>0668055693</td>\n",
              "      <td>4.50</td>\n",
              "      <td>1983</td>\n",
              "      <td>1</td>\n",
              "      <td>1</td>\n",
              "      <td>ARCO</td>\n",
              "      <td>5:1</td>\n",
              "      <td>4:1</td>\n",
              "      <td>3:0</td>\n",
              "      <td>2:0</td>\n",
              "      <td>1:0</td>\n",
              "      <td>total:2</td>\n",
              "      <td>0</td>\n",
              "      <td>NaN</td>\n",
              "      <td>146</td>\n",
              "      <td>Discusses acquiring, training, and riding a ho...</td>\n",
              "      <td>0</td>\n",
              "    </tr>\n",
              "    <tr>\n",
              "      <th>33435</th>\n",
              "      <td>1599985</td>\n",
              "      <td>Legacy: Portraits of 50 Bay Area Environmental...</td>\n",
              "      <td>John  Hart</td>\n",
              "      <td>1578051517</td>\n",
              "      <td>0.00</td>\n",
              "      <td>2005</td>\n",
              "      <td>1</td>\n",
              "      <td>9</td>\n",
              "      <td>Sierra Club Books</td>\n",
              "      <td>5:0</td>\n",
              "      <td>4:0</td>\n",
              "      <td>3:0</td>\n",
              "      <td>2:0</td>\n",
              "      <td>1:0</td>\n",
              "      <td>total:0</td>\n",
              "      <td>0</td>\n",
              "      <td>NaN</td>\n",
              "      <td>160</td>\n",
              "      <td>The San Francisco Bay Area abounds in natural ...</td>\n",
              "      <td>0</td>\n",
              "    </tr>\n",
              "    <tr>\n",
              "      <th>33436</th>\n",
              "      <td>1599988</td>\n",
              "      <td>Above Carmel, Monterey  Big Sur</td>\n",
              "      <td>Robert W. Cameron</td>\n",
              "      <td>0918684587</td>\n",
              "      <td>3.20</td>\n",
              "      <td>2000</td>\n",
              "      <td>1</td>\n",
              "      <td>6</td>\n",
              "      <td>Cameron Books</td>\n",
              "      <td>5:1</td>\n",
              "      <td>4:1</td>\n",
              "      <td>3:2</td>\n",
              "      <td>2:0</td>\n",
              "      <td>1:1</td>\n",
              "      <td>total:5</td>\n",
              "      <td>0</td>\n",
              "      <td>NaN</td>\n",
              "      <td>98</td>\n",
              "      <td>Above Carmel, Monterey and Big Sur. Now you ca...</td>\n",
              "      <td>0</td>\n",
              "    </tr>\n",
              "    <tr>\n",
              "      <th>33437</th>\n",
              "      <td>1599989</td>\n",
              "      <td>Above Yosemite</td>\n",
              "      <td>Robert W. Cameron</td>\n",
              "      <td>091868420X</td>\n",
              "      <td>3.94</td>\n",
              "      <td>1983</td>\n",
              "      <td>1</td>\n",
              "      <td>12</td>\n",
              "      <td>Cameron Books</td>\n",
              "      <td>5:3</td>\n",
              "      <td>4:11</td>\n",
              "      <td>3:1</td>\n",
              "      <td>2:0</td>\n",
              "      <td>1:1</td>\n",
              "      <td>total:16</td>\n",
              "      <td>2</td>\n",
              "      <td>NaN</td>\n",
              "      <td>160</td>\n",
              "      <td>NaN</td>\n",
              "      <td>2</td>\n",
              "    </tr>\n",
              "    <tr>\n",
              "      <th>33438</th>\n",
              "      <td>1599998</td>\n",
              "      <td>Marike's World</td>\n",
              "      <td>Catherine M. Rae</td>\n",
              "      <td>0312261993</td>\n",
              "      <td>3.54</td>\n",
              "      <td>2000</td>\n",
              "      <td>13</td>\n",
              "      <td>7</td>\n",
              "      <td>Thomas Dunne Books</td>\n",
              "      <td>5:2</td>\n",
              "      <td>4:5</td>\n",
              "      <td>3:5</td>\n",
              "      <td>2:0</td>\n",
              "      <td>1:1</td>\n",
              "      <td>total:13</td>\n",
              "      <td>3</td>\n",
              "      <td>NaN</td>\n",
              "      <td>192</td>\n",
              "      <td>Just as Marike takes her first adult steps tow...</td>\n",
              "      <td>3</td>\n",
              "    </tr>\n",
              "  </tbody>\n",
              "</table>\n",
              "</div>\n",
              "      <button class=\"colab-df-convert\" onclick=\"convertToInteractive('df-435c7f41-1acb-42ca-b066-b6701711a707')\"\n",
              "              title=\"Convert this dataframe to an interactive table.\"\n",
              "              style=\"display:none;\">\n",
              "        \n",
              "  <svg xmlns=\"http://www.w3.org/2000/svg\" height=\"24px\"viewBox=\"0 0 24 24\"\n",
              "       width=\"24px\">\n",
              "    <path d=\"M0 0h24v24H0V0z\" fill=\"none\"/>\n",
              "    <path d=\"M18.56 5.44l.94 2.06.94-2.06 2.06-.94-2.06-.94-.94-2.06-.94 2.06-2.06.94zm-11 1L8.5 8.5l.94-2.06 2.06-.94-2.06-.94L8.5 2.5l-.94 2.06-2.06.94zm10 10l.94 2.06.94-2.06 2.06-.94-2.06-.94-.94-2.06-.94 2.06-2.06.94z\"/><path d=\"M17.41 7.96l-1.37-1.37c-.4-.4-.92-.59-1.43-.59-.52 0-1.04.2-1.43.59L10.3 9.45l-7.72 7.72c-.78.78-.78 2.05 0 2.83L4 21.41c.39.39.9.59 1.41.59.51 0 1.02-.2 1.41-.59l7.78-7.78 2.81-2.81c.8-.78.8-2.07 0-2.86zM5.41 20L4 18.59l7.72-7.72 1.47 1.35L5.41 20z\"/>\n",
              "  </svg>\n",
              "      </button>\n",
              "      \n",
              "  <style>\n",
              "    .colab-df-container {\n",
              "      display:flex;\n",
              "      flex-wrap:wrap;\n",
              "      gap: 12px;\n",
              "    }\n",
              "\n",
              "    .colab-df-convert {\n",
              "      background-color: #E8F0FE;\n",
              "      border: none;\n",
              "      border-radius: 50%;\n",
              "      cursor: pointer;\n",
              "      display: none;\n",
              "      fill: #1967D2;\n",
              "      height: 32px;\n",
              "      padding: 0 0 0 0;\n",
              "      width: 32px;\n",
              "    }\n",
              "\n",
              "    .colab-df-convert:hover {\n",
              "      background-color: #E2EBFA;\n",
              "      box-shadow: 0px 1px 2px rgba(60, 64, 67, 0.3), 0px 1px 3px 1px rgba(60, 64, 67, 0.15);\n",
              "      fill: #174EA6;\n",
              "    }\n",
              "\n",
              "    [theme=dark] .colab-df-convert {\n",
              "      background-color: #3B4455;\n",
              "      fill: #D2E3FC;\n",
              "    }\n",
              "\n",
              "    [theme=dark] .colab-df-convert:hover {\n",
              "      background-color: #434B5C;\n",
              "      box-shadow: 0px 1px 3px 1px rgba(0, 0, 0, 0.15);\n",
              "      filter: drop-shadow(0px 1px 2px rgba(0, 0, 0, 0.3));\n",
              "      fill: #FFFFFF;\n",
              "    }\n",
              "  </style>\n",
              "\n",
              "      <script>\n",
              "        const buttonEl =\n",
              "          document.querySelector('#df-435c7f41-1acb-42ca-b066-b6701711a707 button.colab-df-convert');\n",
              "        buttonEl.style.display =\n",
              "          google.colab.kernel.accessAllowed ? 'block' : 'none';\n",
              "\n",
              "        async function convertToInteractive(key) {\n",
              "          const element = document.querySelector('#df-435c7f41-1acb-42ca-b066-b6701711a707');\n",
              "          const dataTable =\n",
              "            await google.colab.kernel.invokeFunction('convertToInteractive',\n",
              "                                                     [key], {});\n",
              "          if (!dataTable) return;\n",
              "\n",
              "          const docLinkHtml = 'Like what you see? Visit the ' +\n",
              "            '<a target=\"_blank\" href=https://colab.research.google.com/notebooks/data_table.ipynb>data table notebook</a>'\n",
              "            + ' to learn more about interactive tables.';\n",
              "          element.innerHTML = '';\n",
              "          dataTable['output_type'] = 'display_data';\n",
              "          await google.colab.output.renderOutput(dataTable, element);\n",
              "          const docLink = document.createElement('div');\n",
              "          docLink.innerHTML = docLinkHtml;\n",
              "          element.appendChild(docLink);\n",
              "        }\n",
              "      </script>\n",
              "    </div>\n",
              "  </div>\n",
              "  "
            ]
          },
          "metadata": {},
          "execution_count": 8
        }
      ],
      "source": [
        "df.tail()"
      ]
    },
    {
      "cell_type": "code",
      "source": [
        "sns.set_context('paper')\n",
        "plt.figure(figsize=(15,10))\n",
        "ax = df.groupby('Language')['Name'].count().plot.bar()\n",
        "plt.title('Language Code')\n",
        "plt.xticks(fontsize = 15)\n",
        "for p in ax.patches:\n",
        "    ax.annotate(str(p.get_height()), (p.get_x()-0.3, p.get_height()+100))"
      ],
      "metadata": {
        "id": "Cy6CUsCQ_Nd1",
        "colab": {
          "base_uri": "https://localhost:8080/",
          "height": 658
        },
        "outputId": "c59a822d-88e4-4081-ac61-83ab81dad79c"
      },
      "id": "Cy6CUsCQ_Nd1",
      "execution_count": null,
      "outputs": [
        {
          "output_type": "display_data",
          "data": {
            "text/plain": [
              "<Figure size 1080x720 with 1 Axes>"
            ],
            "image/png": "[encoded data removed]"
          },
          "metadata": {
            "needs_background": "light"
          }
        }
      ]
    },
    {
      "cell_type": "code",
      "source": [
        "print(df.Language.unique())\n",
        "df[\"Language\"].describe()"
      ],
      "metadata": {
        "id": "WrbUhwHKCAbr",
        "colab": {
          "base_uri": "https://localhost:8080/"
        },
        "outputId": "0ab3c0d7-cc4c-40a9-8ea5-1e503866baa7"
      },
      "id": "WrbUhwHKCAbr",
      "execution_count": null,
      "outputs": [
        {
          "output_type": "stream",
          "name": "stdout",
          "text": [
            "[nan 'ger' 'spa' 'eng' 'en-GB' 'wel' 'ita' 'fre' 'slv' 'en-US' 'epo' 'per'\n",
            " 'msa' 'jpn' 'nl' 'rus' 'por' 'mul' 'swe' 'ara' 'ind' 'lat' 'dan' 'zho'\n",
            " 'pol' 'nav' 'tli' 'tur' 'grc' 'san' 'en-CA' 'gre' 'sco' 'srp']\n"
          ]
        },
        {
          "output_type": "execute_result",
          "data": {
            "text/plain": [
              "count     5265\n",
              "unique      33\n",
              "top        eng\n",
              "freq      3562\n",
              "Name: Language, dtype: object"
            ]
          },
          "metadata": {},
          "execution_count": 10
        }
      ]
    },
    {
      "cell_type": "code",
      "source": [
        "type(df)"
      ],
      "metadata": {
        "id": "v1iQeBvIDPQH",
        "colab": {
          "base_uri": "https://localhost:8080/"
        },
        "outputId": "c23cc19d-7aac-4ce8-a072-38df108d17f3"
      },
      "id": "v1iQeBvIDPQH",
      "execution_count": null,
      "outputs": [
        {
          "output_type": "execute_result",
          "data": {
            "text/plain": [
              "pandas.core.frame.DataFrame"
            ]
          },
          "metadata": {},
          "execution_count": 11
        }
      ]
    },
    {
      "cell_type": "code",
      "source": [
        "df.head()\n"
      ],
      "metadata": {
        "id": "CrT6YTzXDitI",
        "colab": {
          "base_uri": "https://localhost:8080/",
          "height": 669
        },
        "outputId": "8a3c17a8-2a5e-443a-aeff-fd643120125f"
      },
      "id": "CrT6YTzXDitI",
      "execution_count": null,
      "outputs": [
        {
          "output_type": "execute_result",
          "data": {
            "text/plain": [
              "        Id                                               Name  \\\n",
              "0  1500001              Go For It!: Finding Your Own Frontier   \n",
              "1  1500002  Hitler's Spanish Legion: The Blue Division in ...   \n",
              "2  1500003  Practical International Tax Planning, 4th Ed (...   \n",
              "3  1500010  Memsahibs Abroad: Writings by Women Travellers...   \n",
              "4  1500011  The Frail Hero and Virile History: Gender and ...   \n",
              "\n",
              "               Authors        ISBN  Rating  PublishYear  PublishMonth  \\\n",
              "0     Judith Kleinfeld  0972494421    3.00         2003             1   \n",
              "1  Gerald R. Kleinfeld  0809308657    3.96         1979             1   \n",
              "2   Denis A. Kleinfeld  0872241289    0.00         2000             1   \n",
              "3         Indira Ghose  0195644239    3.00         1999            19   \n",
              "4     Indira Chowdhury  0195655311    0.00         2001            31   \n",
              "\n",
              "   PublishDay                           Publisher RatingDist5 RatingDist4  \\\n",
              "0           9                     Epicenter Press         5:0         4:1   \n",
              "1           6  Southern Illinois University Press         5:6        4:15   \n",
              "2          12            Practising Law Institute         5:0         4:0   \n",
              "3           8        Oxford University Press, USA         5:0         4:0   \n",
              "4           7                           Not Avail         5:0         4:0   \n",
              "\n",
              "  RatingDist3 RatingDist2 RatingDist1 RatingDistTotal  CountsOfReview  \\\n",
              "0         3:0         2:1         1:0         total:2               0   \n",
              "1         3:5         2:1         1:0        total:27               2   \n",
              "2         3:0         2:0         1:0         total:0               0   \n",
              "3         3:1         2:0         1:0         total:1               0   \n",
              "4         3:0         2:0         1:0         total:0               0   \n",
              "\n",
              "  Language  pagesNumber                                        Description  \\\n",
              "0      NaN          192  In the wake of national tragedies and an econo...   \n",
              "1      NaN          464  Though well publicized in Europe, and with eno...   \n",
              "2      NaN         1735  As globalisation accelerates, more tax-advanta...   \n",
              "3      NaN          316  This exciting anthology provides the best of t...   \n",
              "4      NaN          208  Demonstrating the centrality of gender in the ...   \n",
              "\n",
              "   Count of text reviews  \n",
              "0                      0  \n",
              "1                      2  \n",
              "2                      0  \n",
              "3                      0  \n",
              "4                      0  "
            ],
            "text/html": [
              "\n",
              "  <div id=\"df-40f46541-a1ed-4e97-becb-692d6d940e27\">\n",
              "    <div class=\"colab-df-container\">\n",
              "      <div>\n",
              "<style scoped>\n",
              "    .dataframe tbody tr th:only-of-type {\n",
              "        vertical-align: middle;\n",
              "    }\n",
              "\n",
              "    .dataframe tbody tr th {\n",
              "        vertical-align: top;\n",
              "    }\n",
              "\n",
              "    .dataframe thead th {\n",
              "        text-align: right;\n",
              "    }\n",
              "</style>\n",
              "<table border=\"1\" class=\"dataframe\">\n",
              "  <thead>\n",
              "    <tr style=\"text-align: right;\">\n",
              "      <th></th>\n",
              "      <th>Id</th>\n",
              "      <th>Name</th>\n",
              "      <th>Authors</th>\n",
              "      <th>ISBN</th>\n",
              "      <th>Rating</th>\n",
              "      <th>PublishYear</th>\n",
              "      <th>PublishMonth</th>\n",
              "      <th>PublishDay</th>\n",
              "      <th>Publisher</th>\n",
              "      <th>RatingDist5</th>\n",
              "      <th>RatingDist4</th>\n",
              "      <th>RatingDist3</th>\n",
              "      <th>RatingDist2</th>\n",
              "      <th>RatingDist1</th>\n",
              "      <th>RatingDistTotal</th>\n",
              "      <th>CountsOfReview</th>\n",
              "      <th>Language</th>\n",
              "      <th>pagesNumber</th>\n",
              "      <th>Description</th>\n",
              "      <th>Count of text reviews</th>\n",
              "    </tr>\n",
              "  </thead>\n",
              "  <tbody>\n",
              "    <tr>\n",
              "      <th>0</th>\n",
              "      <td>1500001</td>\n",
              "      <td>Go For It!: Finding Your Own Frontier</td>\n",
              "      <td>Judith Kleinfeld</td>\n",
              "      <td>0972494421</td>\n",
              "      <td>3.00</td>\n",
              "      <td>2003</td>\n",
              "      <td>1</td>\n",
              "      <td>9</td>\n",
              "      <td>Epicenter Press</td>\n",
              "      <td>5:0</td>\n",
              "      <td>4:1</td>\n",
              "      <td>3:0</td>\n",
              "      <td>2:1</td>\n",
              "      <td>1:0</td>\n",
              "      <td>total:2</td>\n",
              "      <td>0</td>\n",
              "      <td>NaN</td>\n",
              "      <td>192</td>\n",
              "      <td>In the wake of national tragedies and an econo...</td>\n",
              "      <td>0</td>\n",
              "    </tr>\n",
              "    <tr>\n",
              "      <th>1</th>\n",
              "      <td>1500002</td>\n",
              "      <td>Hitler's Spanish Legion: The Blue Division in ...</td>\n",
              "      <td>Gerald R. Kleinfeld</td>\n",
              "      <td>0809308657</td>\n",
              "      <td>3.96</td>\n",
              "      <td>1979</td>\n",
              "      <td>1</td>\n",
              "      <td>6</td>\n",
              "      <td>Southern Illinois University Press</td>\n",
              "      <td>5:6</td>\n",
              "      <td>4:15</td>\n",
              "      <td>3:5</td>\n",
              "      <td>2:1</td>\n",
              "      <td>1:0</td>\n",
              "      <td>total:27</td>\n",
              "      <td>2</td>\n",
              "      <td>NaN</td>\n",
              "      <td>464</td>\n",
              "      <td>Though well publicized in Europe, and with eno...</td>\n",
              "      <td>2</td>\n",
              "    </tr>\n",
              "    <tr>\n",
              "      <th>2</th>\n",
              "      <td>1500003</td>\n",
              "      <td>Practical International Tax Planning, 4th Ed (...</td>\n",
              "      <td>Denis A. Kleinfeld</td>\n",
              "      <td>0872241289</td>\n",
              "      <td>0.00</td>\n",
              "      <td>2000</td>\n",
              "      <td>1</td>\n",
              "      <td>12</td>\n",
              "      <td>Practising Law Institute</td>\n",
              "      <td>5:0</td>\n",
              "      <td>4:0</td>\n",
              "      <td>3:0</td>\n",
              "      <td>2:0</td>\n",
              "      <td>1:0</td>\n",
              "      <td>total:0</td>\n",
              "      <td>0</td>\n",
              "      <td>NaN</td>\n",
              "      <td>1735</td>\n",
              "      <td>As globalisation accelerates, more tax-advanta...</td>\n",
              "      <td>0</td>\n",
              "    </tr>\n",
              "    <tr>\n",
              "      <th>3</th>\n",
              "      <td>1500010</td>\n",
              "      <td>Memsahibs Abroad: Writings by Women Travellers...</td>\n",
              "      <td>Indira Ghose</td>\n",
              "      <td>0195644239</td>\n",
              "      <td>3.00</td>\n",
              "      <td>1999</td>\n",
              "      <td>19</td>\n",
              "      <td>8</td>\n",
              "      <td>Oxford University Press, USA</td>\n",
              "      <td>5:0</td>\n",
              "      <td>4:0</td>\n",
              "      <td>3:1</td>\n",
              "      <td>2:0</td>\n",
              "      <td>1:0</td>\n",
              "      <td>total:1</td>\n",
              "      <td>0</td>\n",
              "      <td>NaN</td>\n",
              "      <td>316</td>\n",
              "      <td>This exciting anthology provides the best of t...</td>\n",
              "      <td>0</td>\n",
              "    </tr>\n",
              "    <tr>\n",
              "      <th>4</th>\n",
              "      <td>1500011</td>\n",
              "      <td>The Frail Hero and Virile History: Gender and ...</td>\n",
              "      <td>Indira Chowdhury</td>\n",
              "      <td>0195655311</td>\n",
              "      <td>0.00</td>\n",
              "      <td>2001</td>\n",
              "      <td>31</td>\n",
              "      <td>7</td>\n",
              "      <td>Not Avail</td>\n",
              "      <td>5:0</td>\n",
              "      <td>4:0</td>\n",
              "      <td>3:0</td>\n",
              "      <td>2:0</td>\n",
              "      <td>1:0</td>\n",
              "      <td>total:0</td>\n",
              "      <td>0</td>\n",
              "      <td>NaN</td>\n",
              "      <td>208</td>\n",
              "      <td>Demonstrating the centrality of gender in the ...</td>\n",
              "      <td>0</td>\n",
              "    </tr>\n",
              "  </tbody>\n",
              "</table>\n",
              "</div>\n",
              "      <button class=\"colab-df-convert\" onclick=\"convertToInteractive('df-40f46541-a1ed-4e97-becb-692d6d940e27')\"\n",
              "              title=\"Convert this dataframe to an interactive table.\"\n",
              "              style=\"display:none;\">\n",
              "        \n",
              "  <svg xmlns=\"http://www.w3.org/2000/svg\" height=\"24px\"viewBox=\"0 0 24 24\"\n",
              "       width=\"24px\">\n",
              "    <path d=\"M0 0h24v24H0V0z\" fill=\"none\"/>\n",
              "    <path d=\"M18.56 5.44l.94 2.06.94-2.06 2.06-.94-2.06-.94-.94-2.06-.94 2.06-2.06.94zm-11 1L8.5 8.5l.94-2.06 2.06-.94-2.06-.94L8.5 2.5l-.94 2.06-2.06.94zm10 10l.94 2.06.94-2.06 2.06-.94-2.06-.94-.94-2.06-.94 2.06-2.06.94z\"/><path d=\"M17.41 7.96l-1.37-1.37c-.4-.4-.92-.59-1.43-.59-.52 0-1.04.2-1.43.59L10.3 9.45l-7.72 7.72c-.78.78-.78 2.05 0 2.83L4 21.41c.39.39.9.59 1.41.59.51 0 1.02-.2 1.41-.59l7.78-7.78 2.81-2.81c.8-.78.8-2.07 0-2.86zM5.41 20L4 18.59l7.72-7.72 1.47 1.35L5.41 20z\"/>\n",
              "  </svg>\n",
              "      </button>\n",
              "      \n",
              "  <style>\n",
              "    .colab-df-container {\n",
              "      display:flex;\n",
              "      flex-wrap:wrap;\n",
              "      gap: 12px;\n",
              "    }\n",
              "\n",
              "    .colab-df-convert {\n",
              "      background-color: #E8F0FE;\n",
              "      border: none;\n",
              "      border-radius: 50%;\n",
              "      cursor: pointer;\n",
              "      display: none;\n",
              "      fill: #1967D2;\n",
              "      height: 32px;\n",
              "      padding: 0 0 0 0;\n",
              "      width: 32px;\n",
              "    }\n",
              "\n",
              "    .colab-df-convert:hover {\n",
              "      background-color: #E2EBFA;\n",
              "      box-shadow: 0px 1px 2px rgba(60, 64, 67, 0.3), 0px 1px 3px 1px rgba(60, 64, 67, 0.15);\n",
              "      fill: #174EA6;\n",
              "    }\n",
              "\n",
              "    [theme=dark] .colab-df-convert {\n",
              "      background-color: #3B4455;\n",
              "      fill: #D2E3FC;\n",
              "    }\n",
              "\n",
              "    [theme=dark] .colab-df-convert:hover {\n",
              "      background-color: #434B5C;\n",
              "      box-shadow: 0px 1px 3px 1px rgba(0, 0, 0, 0.15);\n",
              "      filter: drop-shadow(0px 1px 2px rgba(0, 0, 0, 0.3));\n",
              "      fill: #FFFFFF;\n",
              "    }\n",
              "  </style>\n",
              "\n",
              "      <script>\n",
              "        const buttonEl =\n",
              "          document.querySelector('#df-40f46541-a1ed-4e97-becb-692d6d940e27 button.colab-df-convert');\n",
              "        buttonEl.style.display =\n",
              "          google.colab.kernel.accessAllowed ? 'block' : 'none';\n",
              "\n",
              "        async function convertToInteractive(key) {\n",
              "          const element = document.querySelector('#df-40f46541-a1ed-4e97-becb-692d6d940e27');\n",
              "          const dataTable =\n",
              "            await google.colab.kernel.invokeFunction('convertToInteractive',\n",
              "                                                     [key], {});\n",
              "          if (!dataTable) return;\n",
              "\n",
              "          const docLinkHtml = 'Like what you see? Visit the ' +\n",
              "            '<a target=\"_blank\" href=https://colab.research.google.com/notebooks/data_table.ipynb>data table notebook</a>'\n",
              "            + ' to learn more about interactive tables.';\n",
              "          element.innerHTML = '';\n",
              "          dataTable['output_type'] = 'display_data';\n",
              "          await google.colab.output.renderOutput(dataTable, element);\n",
              "          const docLink = document.createElement('div');\n",
              "          docLink.innerHTML = docLinkHtml;\n",
              "          element.appendChild(docLink);\n",
              "        }\n",
              "      </script>\n",
              "    </div>\n",
              "  </div>\n",
              "  "
            ]
          },
          "metadata": {},
          "execution_count": 12
        }
      ]
    },
    {
      "cell_type": "code",
      "source": [
        "df.info()"
      ],
      "metadata": {
        "id": "k8ACS1ttF4XH",
        "colab": {
          "base_uri": "https://localhost:8080/"
        },
        "outputId": "db5ed41f-7175-46dd-8890-e8651a212464"
      },
      "id": "k8ACS1ttF4XH",
      "execution_count": null,
      "outputs": [
        {
          "output_type": "stream",
          "name": "stdout",
          "text": [
            "<class 'pandas.core.frame.DataFrame'>\n",
            "RangeIndex: 33439 entries, 0 to 33438\n",
            "Data columns (total 20 columns):\n",
            " #   Column                 Non-Null Count  Dtype  \n",
            "---  ------                 --------------  -----  \n",
            " 0   Id                     33439 non-null  int64  \n",
            " 1   Name                   33439 non-null  object \n",
            " 2   Authors                33439 non-null  object \n",
            " 3   ISBN                   33323 non-null  object \n",
            " 4   Rating                 33439 non-null  float64\n",
            " 5   PublishYear            33439 non-null  int64  \n",
            " 6   PublishMonth           33439 non-null  int64  \n",
            " 7   PublishDay             33439 non-null  int64  \n",
            " 8   Publisher              33065 non-null  object \n",
            " 9   RatingDist5            33439 non-null  object \n",
            " 10  RatingDist4            33439 non-null  object \n",
            " 11  RatingDist3            33439 non-null  object \n",
            " 12  RatingDist2            33439 non-null  object \n",
            " 13  RatingDist1            33439 non-null  object \n",
            " 14  RatingDistTotal        33439 non-null  object \n",
            " 15  CountsOfReview         33439 non-null  int64  \n",
            " 16  Language               5265 non-null   object \n",
            " 17  pagesNumber            33439 non-null  int64  \n",
            " 18  Description            27975 non-null  object \n",
            " 19  Count of text reviews  33439 non-null  int64  \n",
            "dtypes: float64(1), int64(7), object(12)\n",
            "memory usage: 5.1+ MB\n"
          ]
        }
      ]
    },
    {
      "cell_type": "code",
      "source": [
        "df.isnull().sum()"
      ],
      "metadata": {
        "id": "fES1aAY6Dji-",
        "colab": {
          "base_uri": "https://localhost:8080/"
        },
        "outputId": "4a66d5e2-27b0-470e-c7e3-5936f238354a"
      },
      "id": "fES1aAY6Dji-",
      "execution_count": null,
      "outputs": [
        {
          "output_type": "execute_result",
          "data": {
            "text/plain": [
              "Id                           0\n",
              "Name                         0\n",
              "Authors                      0\n",
              "ISBN                       116\n",
              "Rating                       0\n",
              "PublishYear                  0\n",
              "PublishMonth                 0\n",
              "PublishDay                   0\n",
              "Publisher                  374\n",
              "RatingDist5                  0\n",
              "RatingDist4                  0\n",
              "RatingDist3                  0\n",
              "RatingDist2                  0\n",
              "RatingDist1                  0\n",
              "RatingDistTotal              0\n",
              "CountsOfReview               0\n",
              "Language                 28174\n",
              "pagesNumber                  0\n",
              "Description               5464\n",
              "Count of text reviews        0\n",
              "dtype: int64"
            ]
          },
          "metadata": {},
          "execution_count": 4
        }
      ]
    },
    {
      "cell_type": "code",
      "source": [
        "df[\"Language\"].replace([\"en-GB\", \"en-CA\", \"en-US\"], \"eng\", inplace=True)\n",
        "print(df.Language.unique())\n",
        "df[\"Language\"].describe()"
      ],
      "metadata": {
        "id": "KDBHFEvoG8kE",
        "colab": {
          "base_uri": "https://localhost:8080/"
        },
        "outputId": "473c27e0-70f1-492e-cee2-6e62fff7483a"
      },
      "id": "KDBHFEvoG8kE",
      "execution_count": null,
      "outputs": [
        {
          "output_type": "stream",
          "name": "stdout",
          "text": [
            "[nan 'ger' 'spa' 'eng' 'wel' 'ita' 'fre' 'slv' 'epo' 'per' 'msa' 'jpn'\n",
            " 'nl' 'rus' 'por' 'mul' 'swe' 'ara' 'ind' 'lat' 'dan' 'zho' 'pol' 'nav'\n",
            " 'tli' 'tur' 'grc' 'san' 'gre' 'sco' 'srp']\n"
          ]
        },
        {
          "output_type": "execute_result",
          "data": {
            "text/plain": [
              "count     5265\n",
              "unique      30\n",
              "top        eng\n",
              "freq      4093\n",
              "Name: Language, dtype: object"
            ]
          },
          "metadata": {},
          "execution_count": 5
        }
      ]
    },
    {
      "cell_type": "code",
      "source": [],
      "metadata": {
        "id": "mRm2RVnHHFGb"
      },
      "id": "mRm2RVnHHFGb",
      "execution_count": null,
      "outputs": []
    },
    {
      "cell_type": "code",
      "source": [
        "# fill the empty descriptions with the names of the books\n",
        "df.Description.fillna(df.Name, inplace=True)"
      ],
      "metadata": {
        "id": "gPj_dzVAHHw1"
      },
      "id": "gPj_dzVAHHw1",
      "execution_count": null,
      "outputs": []
    },
    {
      "cell_type": "code",
      "source": [],
      "metadata": {
        "id": "6nENtaGGIJk8"
      },
      "id": "6nENtaGGIJk8",
      "execution_count": null,
      "outputs": []
    },
    {
      "cell_type": "code",
      "source": [
        "df =  df[[\"Publisher\", \"Description\"]]"
      ],
      "metadata": {
        "id": "-RThQVNADpKe"
      },
      "id": "-RThQVNADpKe",
      "execution_count": null,
      "outputs": []
    },
    {
      "cell_type": "code",
      "source": [
        "df.info()"
      ],
      "metadata": {
        "id": "cxEr91kREpkb",
        "colab": {
          "base_uri": "https://localhost:8080/"
        },
        "outputId": "bd1b28e0-2d9b-4e6a-a2b1-c1bcfcc991c0"
      },
      "id": "cxEr91kREpkb",
      "execution_count": null,
      "outputs": [
        {
          "output_type": "stream",
          "name": "stdout",
          "text": [
            "<class 'pandas.core.frame.DataFrame'>\n",
            "RangeIndex: 33439 entries, 0 to 33438\n",
            "Data columns (total 2 columns):\n",
            " #   Column       Non-Null Count  Dtype \n",
            "---  ------       --------------  ----- \n",
            " 0   Publisher    33065 non-null  object\n",
            " 1   Description  33439 non-null  object\n",
            "dtypes: object(2)\n",
            "memory usage: 522.6+ KB\n"
          ]
        }
      ]
    },
    {
      "cell_type": "code",
      "source": [
        "df.describe()"
      ],
      "metadata": {
        "id": "NGuJ1ncoEqex",
        "colab": {
          "base_uri": "https://localhost:8080/",
          "height": 175
        },
        "outputId": "5aeea691-70c5-4dee-ae3e-2b0b44ba4a91"
      },
      "id": "NGuJ1ncoEqex",
      "execution_count": null,
      "outputs": [
        {
          "output_type": "execute_result",
          "data": {
            "text/plain": [
              "        Publisher                                        Description\n",
              "count       33065                                              33439\n",
              "unique       7234                                              33126\n",
              "top     Routledge  This scarce antiquarian book is a facsimile re...\n",
              "freq          532                                                 58"
            ],
            "text/html": [
              "\n",
              "  <div id=\"df-49daa8df-111f-4af3-9e5b-ebb8ddf26671\">\n",
              "    <div class=\"colab-df-container\">\n",
              "      <div>\n",
              "<style scoped>\n",
              "    .dataframe tbody tr th:only-of-type {\n",
              "        vertical-align: middle;\n",
              "    }\n",
              "\n",
              "    .dataframe tbody tr th {\n",
              "        vertical-align: top;\n",
              "    }\n",
              "\n",
              "    .dataframe thead th {\n",
              "        text-align: right;\n",
              "    }\n",
              "</style>\n",
              "<table border=\"1\" class=\"dataframe\">\n",
              "  <thead>\n",
              "    <tr style=\"text-align: right;\">\n",
              "      <th></th>\n",
              "      <th>Publisher</th>\n",
              "      <th>Description</th>\n",
              "    </tr>\n",
              "  </thead>\n",
              "  <tbody>\n",
              "    <tr>\n",
              "      <th>count</th>\n",
              "      <td>33065</td>\n",
              "      <td>33439</td>\n",
              "    </tr>\n",
              "    <tr>\n",
              "      <th>unique</th>\n",
              "      <td>7234</td>\n",
              "      <td>33126</td>\n",
              "    </tr>\n",
              "    <tr>\n",
              "      <th>top</th>\n",
              "      <td>Routledge</td>\n",
              "      <td>This scarce antiquarian book is a facsimile re...</td>\n",
              "    </tr>\n",
              "    <tr>\n",
              "      <th>freq</th>\n",
              "      <td>532</td>\n",
              "      <td>58</td>\n",
              "    </tr>\n",
              "  </tbody>\n",
              "</table>\n",
              "</div>\n",
              "      <button class=\"colab-df-convert\" onclick=\"convertToInteractive('df-49daa8df-111f-4af3-9e5b-ebb8ddf26671')\"\n",
              "              title=\"Convert this dataframe to an interactive table.\"\n",
              "              style=\"display:none;\">\n",
              "        \n",
              "  <svg xmlns=\"http://www.w3.org/2000/svg\" height=\"24px\"viewBox=\"0 0 24 24\"\n",
              "       width=\"24px\">\n",
              "    <path d=\"M0 0h24v24H0V0z\" fill=\"none\"/>\n",
              "    <path d=\"M18.56 5.44l.94 2.06.94-2.06 2.06-.94-2.06-.94-.94-2.06-.94 2.06-2.06.94zm-11 1L8.5 8.5l.94-2.06 2.06-.94-2.06-.94L8.5 2.5l-.94 2.06-2.06.94zm10 10l.94 2.06.94-2.06 2.06-.94-2.06-.94-.94-2.06-.94 2.06-2.06.94z\"/><path d=\"M17.41 7.96l-1.37-1.37c-.4-.4-.92-.59-1.43-.59-.52 0-1.04.2-1.43.59L10.3 9.45l-7.72 7.72c-.78.78-.78 2.05 0 2.83L4 21.41c.39.39.9.59 1.41.59.51 0 1.02-.2 1.41-.59l7.78-7.78 2.81-2.81c.8-.78.8-2.07 0-2.86zM5.41 20L4 18.59l7.72-7.72 1.47 1.35L5.41 20z\"/>\n",
              "  </svg>\n",
              "      </button>\n",
              "      \n",
              "  <style>\n",
              "    .colab-df-container {\n",
              "      display:flex;\n",
              "      flex-wrap:wrap;\n",
              "      gap: 12px;\n",
              "    }\n",
              "\n",
              "    .colab-df-convert {\n",
              "      background-color: #E8F0FE;\n",
              "      border: none;\n",
              "      border-radius: 50%;\n",
              "      cursor: pointer;\n",
              "      display: none;\n",
              "      fill: #1967D2;\n",
              "      height: 32px;\n",
              "      padding: 0 0 0 0;\n",
              "      width: 32px;\n",
              "    }\n",
              "\n",
              "    .colab-df-convert:hover {\n",
              "      background-color: #E2EBFA;\n",
              "      box-shadow: 0px 1px 2px rgba(60, 64, 67, 0.3), 0px 1px 3px 1px rgba(60, 64, 67, 0.15);\n",
              "      fill: #174EA6;\n",
              "    }\n",
              "\n",
              "    [theme=dark] .colab-df-convert {\n",
              "      background-color: #3B4455;\n",
              "      fill: #D2E3FC;\n",
              "    }\n",
              "\n",
              "    [theme=dark] .colab-df-convert:hover {\n",
              "      background-color: #434B5C;\n",
              "      box-shadow: 0px 1px 3px 1px rgba(0, 0, 0, 0.15);\n",
              "      filter: drop-shadow(0px 1px 2px rgba(0, 0, 0, 0.3));\n",
              "      fill: #FFFFFF;\n",
              "    }\n",
              "  </style>\n",
              "\n",
              "      <script>\n",
              "        const buttonEl =\n",
              "          document.querySelector('#df-49daa8df-111f-4af3-9e5b-ebb8ddf26671 button.colab-df-convert');\n",
              "        buttonEl.style.display =\n",
              "          google.colab.kernel.accessAllowed ? 'block' : 'none';\n",
              "\n",
              "        async function convertToInteractive(key) {\n",
              "          const element = document.querySelector('#df-49daa8df-111f-4af3-9e5b-ebb8ddf26671');\n",
              "          const dataTable =\n",
              "            await google.colab.kernel.invokeFunction('convertToInteractive',\n",
              "                                                     [key], {});\n",
              "          if (!dataTable) return;\n",
              "\n",
              "          const docLinkHtml = 'Like what you see? Visit the ' +\n",
              "            '<a target=\"_blank\" href=https://colab.research.google.com/notebooks/data_table.ipynb>data table notebook</a>'\n",
              "            + ' to learn more about interactive tables.';\n",
              "          element.innerHTML = '';\n",
              "          dataTable['output_type'] = 'display_data';\n",
              "          await google.colab.output.renderOutput(dataTable, element);\n",
              "          const docLink = document.createElement('div');\n",
              "          docLink.innerHTML = docLinkHtml;\n",
              "          element.appendChild(docLink);\n",
              "        }\n",
              "      </script>\n",
              "    </div>\n",
              "  </div>\n",
              "  "
            ]
          },
          "metadata": {},
          "execution_count": 19
        }
      ]
    },
    {
      "cell_type": "code",
      "source": [
        "df.isnull().count()"
      ],
      "metadata": {
        "id": "gL8hBVp-DmeY",
        "colab": {
          "base_uri": "https://localhost:8080/"
        },
        "outputId": "8697ad20-a0d0-4118-ef5d-6cecd5428cd6"
      },
      "id": "gL8hBVp-DmeY",
      "execution_count": null,
      "outputs": [
        {
          "output_type": "execute_result",
          "data": {
            "text/plain": [
              "Publisher      33439\n",
              "Description    33439\n",
              "dtype: int64"
            ]
          },
          "metadata": {},
          "execution_count": 8
        }
      ]
    },
    {
      "cell_type": "code",
      "source": [
        "# df.dropna()"
      ],
      "metadata": {
        "id": "1knBSMb7HoFR"
      },
      "id": "1knBSMb7HoFR",
      "execution_count": null,
      "outputs": []
    },
    {
      "cell_type": "code",
      "source": [
        "df.info()"
      ],
      "metadata": {
        "id": "qm8XVyU9HrE_",
        "colab": {
          "base_uri": "https://localhost:8080/"
        },
        "outputId": "616b2b5b-777e-4932-b532-a52674158a37"
      },
      "id": "qm8XVyU9HrE_",
      "execution_count": null,
      "outputs": [
        {
          "output_type": "stream",
          "name": "stdout",
          "text": [
            "<class 'pandas.core.frame.DataFrame'>\n",
            "RangeIndex: 33439 entries, 0 to 33438\n",
            "Data columns (total 2 columns):\n",
            " #   Column       Non-Null Count  Dtype \n",
            "---  ------       --------------  ----- \n",
            " 0   Publisher    33065 non-null  object\n",
            " 1   Description  33439 non-null  object\n",
            "dtypes: object(2)\n",
            "memory usage: 522.6+ KB\n"
          ]
        }
      ]
    },
    {
      "cell_type": "code",
      "source": [
        "df.isnull().sum()\n"
      ],
      "metadata": {
        "id": "_OyT65hxHt5H",
        "colab": {
          "base_uri": "https://localhost:8080/"
        },
        "outputId": "35e1e6c7-8a0e-4bbc-87b9-a30ee7a23331"
      },
      "id": "_OyT65hxHt5H",
      "execution_count": null,
      "outputs": [
        {
          "output_type": "execute_result",
          "data": {
            "text/plain": [
              "Publisher      374\n",
              "Description      0\n",
              "dtype: int64"
            ]
          },
          "metadata": {},
          "execution_count": 9
        }
      ]
    },
    {
      "cell_type": "code",
      "source": [
        "df.describe()"
      ],
      "metadata": {
        "id": "6e-ZYKyBHypP",
        "colab": {
          "base_uri": "https://localhost:8080/",
          "height": 175
        },
        "outputId": "1a6f9867-5157-415b-d97a-e9e89624c413"
      },
      "id": "6e-ZYKyBHypP",
      "execution_count": null,
      "outputs": [
        {
          "output_type": "execute_result",
          "data": {
            "text/plain": [
              "        Publisher                                        Description\n",
              "count       33065                                              33439\n",
              "unique       7234                                              33126\n",
              "top     Routledge  This scarce antiquarian book is a facsimile re...\n",
              "freq          532                                                 58"
            ],
            "text/html": [
              "\n",
              "  <div id=\"df-40368f50-b795-49a6-95f5-d22873b30912\">\n",
              "    <div class=\"colab-df-container\">\n",
              "      <div>\n",
              "<style scoped>\n",
              "    .dataframe tbody tr th:only-of-type {\n",
              "        vertical-align: middle;\n",
              "    }\n",
              "\n",
              "    .dataframe tbody tr th {\n",
              "        vertical-align: top;\n",
              "    }\n",
              "\n",
              "    .dataframe thead th {\n",
              "        text-align: right;\n",
              "    }\n",
              "</style>\n",
              "<table border=\"1\" class=\"dataframe\">\n",
              "  <thead>\n",
              "    <tr style=\"text-align: right;\">\n",
              "      <th></th>\n",
              "      <th>Publisher</th>\n",
              "      <th>Description</th>\n",
              "    </tr>\n",
              "  </thead>\n",
              "  <tbody>\n",
              "    <tr>\n",
              "      <th>count</th>\n",
              "      <td>33065</td>\n",
              "      <td>33439</td>\n",
              "    </tr>\n",
              "    <tr>\n",
              "      <th>unique</th>\n",
              "      <td>7234</td>\n",
              "      <td>33126</td>\n",
              "    </tr>\n",
              "    <tr>\n",
              "      <th>top</th>\n",
              "      <td>Routledge</td>\n",
              "      <td>This scarce antiquarian book is a facsimile re...</td>\n",
              "    </tr>\n",
              "    <tr>\n",
              "      <th>freq</th>\n",
              "      <td>532</td>\n",
              "      <td>58</td>\n",
              "    </tr>\n",
              "  </tbody>\n",
              "</table>\n",
              "</div>\n",
              "      <button class=\"colab-df-convert\" onclick=\"convertToInteractive('df-40368f50-b795-49a6-95f5-d22873b30912')\"\n",
              "              title=\"Convert this dataframe to an interactive table.\"\n",
              "              style=\"display:none;\">\n",
              "        \n",
              "  <svg xmlns=\"http://www.w3.org/2000/svg\" height=\"24px\"viewBox=\"0 0 24 24\"\n",
              "       width=\"24px\">\n",
              "    <path d=\"M0 0h24v24H0V0z\" fill=\"none\"/>\n",
              "    <path d=\"M18.56 5.44l.94 2.06.94-2.06 2.06-.94-2.06-.94-.94-2.06-.94 2.06-2.06.94zm-11 1L8.5 8.5l.94-2.06 2.06-.94-2.06-.94L8.5 2.5l-.94 2.06-2.06.94zm10 10l.94 2.06.94-2.06 2.06-.94-2.06-.94-.94-2.06-.94 2.06-2.06.94z\"/><path d=\"M17.41 7.96l-1.37-1.37c-.4-.4-.92-.59-1.43-.59-.52 0-1.04.2-1.43.59L10.3 9.45l-7.72 7.72c-.78.78-.78 2.05 0 2.83L4 21.41c.39.39.9.59 1.41.59.51 0 1.02-.2 1.41-.59l7.78-7.78 2.81-2.81c.8-.78.8-2.07 0-2.86zM5.41 20L4 18.59l7.72-7.72 1.47 1.35L5.41 20z\"/>\n",
              "  </svg>\n",
              "      </button>\n",
              "      \n",
              "  <style>\n",
              "    .colab-df-container {\n",
              "      display:flex;\n",
              "      flex-wrap:wrap;\n",
              "      gap: 12px;\n",
              "    }\n",
              "\n",
              "    .colab-df-convert {\n",
              "      background-color: #E8F0FE;\n",
              "      border: none;\n",
              "      border-radius: 50%;\n",
              "      cursor: pointer;\n",
              "      display: none;\n",
              "      fill: #1967D2;\n",
              "      height: 32px;\n",
              "      padding: 0 0 0 0;\n",
              "      width: 32px;\n",
              "    }\n",
              "\n",
              "    .colab-df-convert:hover {\n",
              "      background-color: #E2EBFA;\n",
              "      box-shadow: 0px 1px 2px rgba(60, 64, 67, 0.3), 0px 1px 3px 1px rgba(60, 64, 67, 0.15);\n",
              "      fill: #174EA6;\n",
              "    }\n",
              "\n",
              "    [theme=dark] .colab-df-convert {\n",
              "      background-color: #3B4455;\n",
              "      fill: #D2E3FC;\n",
              "    }\n",
              "\n",
              "    [theme=dark] .colab-df-convert:hover {\n",
              "      background-color: #434B5C;\n",
              "      box-shadow: 0px 1px 3px 1px rgba(0, 0, 0, 0.15);\n",
              "      filter: drop-shadow(0px 1px 2px rgba(0, 0, 0, 0.3));\n",
              "      fill: #FFFFFF;\n",
              "    }\n",
              "  </style>\n",
              "\n",
              "      <script>\n",
              "        const buttonEl =\n",
              "          document.querySelector('#df-40368f50-b795-49a6-95f5-d22873b30912 button.colab-df-convert');\n",
              "        buttonEl.style.display =\n",
              "          google.colab.kernel.accessAllowed ? 'block' : 'none';\n",
              "\n",
              "        async function convertToInteractive(key) {\n",
              "          const element = document.querySelector('#df-40368f50-b795-49a6-95f5-d22873b30912');\n",
              "          const dataTable =\n",
              "            await google.colab.kernel.invokeFunction('convertToInteractive',\n",
              "                                                     [key], {});\n",
              "          if (!dataTable) return;\n",
              "\n",
              "          const docLinkHtml = 'Like what you see? Visit the ' +\n",
              "            '<a target=\"_blank\" href=https://colab.research.google.com/notebooks/data_table.ipynb>data table notebook</a>'\n",
              "            + ' to learn more about interactive tables.';\n",
              "          element.innerHTML = '';\n",
              "          dataTable['output_type'] = 'display_data';\n",
              "          await google.colab.output.renderOutput(dataTable, element);\n",
              "          const docLink = document.createElement('div');\n",
              "          docLink.innerHTML = docLinkHtml;\n",
              "          element.appendChild(docLink);\n",
              "        }\n",
              "      </script>\n",
              "    </div>\n",
              "  </div>\n",
              "  "
            ]
          },
          "metadata": {},
          "execution_count": 10
        }
      ]
    },
    {
      "cell_type": "code",
      "source": [
        "df.dropna(inplace = True)"
      ],
      "metadata": {
        "id": "EjXVVoX4Ixza"
      },
      "id": "EjXVVoX4Ixza",
      "execution_count": null,
      "outputs": []
    },
    {
      "cell_type": "code",
      "source": [],
      "metadata": {
        "id": "0ZeaUnXSJYad"
      },
      "id": "0ZeaUnXSJYad",
      "execution_count": null,
      "outputs": []
    },
    {
      "cell_type": "code",
      "source": [
        "df"
      ],
      "metadata": {
        "id": "Mb1DxuyhJYhN",
        "colab": {
          "base_uri": "https://localhost:8080/",
          "height": 423
        },
        "outputId": "e841dda7-2d38-4f21-f457-65b9fee5086e"
      },
      "id": "Mb1DxuyhJYhN",
      "execution_count": null,
      "outputs": [
        {
          "output_type": "execute_result",
          "data": {
            "text/plain": [
              "                                Publisher  \\\n",
              "0                         Epicenter Press   \n",
              "1      Southern Illinois University Press   \n",
              "2                Practising Law Institute   \n",
              "3            Oxford University Press, USA   \n",
              "4                               Not Avail   \n",
              "...                                   ...   \n",
              "33434                                ARCO   \n",
              "33435                   Sierra Club Books   \n",
              "33436                       Cameron Books   \n",
              "33437                       Cameron Books   \n",
              "33438                  Thomas Dunne Books   \n",
              "\n",
              "                                             Description  \n",
              "0      In the wake of national tragedies and an econo...  \n",
              "1      Though well publicized in Europe, and with eno...  \n",
              "2      As globalisation accelerates, more tax-advanta...  \n",
              "3      This exciting anthology provides the best of t...  \n",
              "4      Demonstrating the centrality of gender in the ...  \n",
              "...                                                  ...  \n",
              "33434  Discusses acquiring, training, and riding a ho...  \n",
              "33435  The San Francisco Bay Area abounds in natural ...  \n",
              "33436  Above Carmel, Monterey and Big Sur. Now you ca...  \n",
              "33437                                     Above Yosemite  \n",
              "33438  Just as Marike takes her first adult steps tow...  \n",
              "\n",
              "[33065 rows x 2 columns]"
            ],
            "text/html": [
              "\n",
              "  <div id=\"df-595db211-c021-4ec9-b3fc-de470476477a\">\n",
              "    <div class=\"colab-df-container\">\n",
              "      <div>\n",
              "<style scoped>\n",
              "    .dataframe tbody tr th:only-of-type {\n",
              "        vertical-align: middle;\n",
              "    }\n",
              "\n",
              "    .dataframe tbody tr th {\n",
              "        vertical-align: top;\n",
              "    }\n",
              "\n",
              "    .dataframe thead th {\n",
              "        text-align: right;\n",
              "    }\n",
              "</style>\n",
              "<table border=\"1\" class=\"dataframe\">\n",
              "  <thead>\n",
              "    <tr style=\"text-align: right;\">\n",
              "      <th></th>\n",
              "      <th>Publisher</th>\n",
              "      <th>Description</th>\n",
              "    </tr>\n",
              "  </thead>\n",
              "  <tbody>\n",
              "    <tr>\n",
              "      <th>0</th>\n",
              "      <td>Epicenter Press</td>\n",
              "      <td>In the wake of national tragedies and an econo...</td>\n",
              "    </tr>\n",
              "    <tr>\n",
              "      <th>1</th>\n",
              "      <td>Southern Illinois University Press</td>\n",
              "      <td>Though well publicized in Europe, and with eno...</td>\n",
              "    </tr>\n",
              "    <tr>\n",
              "      <th>2</th>\n",
              "      <td>Practising Law Institute</td>\n",
              "      <td>As globalisation accelerates, more tax-advanta...</td>\n",
              "    </tr>\n",
              "    <tr>\n",
              "      <th>3</th>\n",
              "      <td>Oxford University Press, USA</td>\n",
              "      <td>This exciting anthology provides the best of t...</td>\n",
              "    </tr>\n",
              "    <tr>\n",
              "      <th>4</th>\n",
              "      <td>Not Avail</td>\n",
              "      <td>Demonstrating the centrality of gender in the ...</td>\n",
              "    </tr>\n",
              "    <tr>\n",
              "      <th>...</th>\n",
              "      <td>...</td>\n",
              "      <td>...</td>\n",
              "    </tr>\n",
              "    <tr>\n",
              "      <th>33434</th>\n",
              "      <td>ARCO</td>\n",
              "      <td>Discusses acquiring, training, and riding a ho...</td>\n",
              "    </tr>\n",
              "    <tr>\n",
              "      <th>33435</th>\n",
              "      <td>Sierra Club Books</td>\n",
              "      <td>The San Francisco Bay Area abounds in natural ...</td>\n",
              "    </tr>\n",
              "    <tr>\n",
              "      <th>33436</th>\n",
              "      <td>Cameron Books</td>\n",
              "      <td>Above Carmel, Monterey and Big Sur. Now you ca...</td>\n",
              "    </tr>\n",
              "    <tr>\n",
              "      <th>33437</th>\n",
              "      <td>Cameron Books</td>\n",
              "      <td>Above Yosemite</td>\n",
              "    </tr>\n",
              "    <tr>\n",
              "      <th>33438</th>\n",
              "      <td>Thomas Dunne Books</td>\n",
              "      <td>Just as Marike takes her first adult steps tow...</td>\n",
              "    </tr>\n",
              "  </tbody>\n",
              "</table>\n",
              "<p>33065 rows × 2 columns</p>\n",
              "</div>\n",
              "      <button class=\"colab-df-convert\" onclick=\"convertToInteractive('df-595db211-c021-4ec9-b3fc-de470476477a')\"\n",
              "              title=\"Convert this dataframe to an interactive table.\"\n",
              "              style=\"display:none;\">\n",
              "        \n",
              "  <svg xmlns=\"http://www.w3.org/2000/svg\" height=\"24px\"viewBox=\"0 0 24 24\"\n",
              "       width=\"24px\">\n",
              "    <path d=\"M0 0h24v24H0V0z\" fill=\"none\"/>\n",
              "    <path d=\"M18.56 5.44l.94 2.06.94-2.06 2.06-.94-2.06-.94-.94-2.06-.94 2.06-2.06.94zm-11 1L8.5 8.5l.94-2.06 2.06-.94-2.06-.94L8.5 2.5l-.94 2.06-2.06.94zm10 10l.94 2.06.94-2.06 2.06-.94-2.06-.94-.94-2.06-.94 2.06-2.06.94z\"/><path d=\"M17.41 7.96l-1.37-1.37c-.4-.4-.92-.59-1.43-.59-.52 0-1.04.2-1.43.59L10.3 9.45l-7.72 7.72c-.78.78-.78 2.05 0 2.83L4 21.41c.39.39.9.59 1.41.59.51 0 1.02-.2 1.41-.59l7.78-7.78 2.81-2.81c.8-.78.8-2.07 0-2.86zM5.41 20L4 18.59l7.72-7.72 1.47 1.35L5.41 20z\"/>\n",
              "  </svg>\n",
              "      </button>\n",
              "      \n",
              "  <style>\n",
              "    .colab-df-container {\n",
              "      display:flex;\n",
              "      flex-wrap:wrap;\n",
              "      gap: 12px;\n",
              "    }\n",
              "\n",
              "    .colab-df-convert {\n",
              "      background-color: #E8F0FE;\n",
              "      border: none;\n",
              "      border-radius: 50%;\n",
              "      cursor: pointer;\n",
              "      display: none;\n",
              "      fill: #1967D2;\n",
              "      height: 32px;\n",
              "      padding: 0 0 0 0;\n",
              "      width: 32px;\n",
              "    }\n",
              "\n",
              "    .colab-df-convert:hover {\n",
              "      background-color: #E2EBFA;\n",
              "      box-shadow: 0px 1px 2px rgba(60, 64, 67, 0.3), 0px 1px 3px 1px rgba(60, 64, 67, 0.15);\n",
              "      fill: #174EA6;\n",
              "    }\n",
              "\n",
              "    [theme=dark] .colab-df-convert {\n",
              "      background-color: #3B4455;\n",
              "      fill: #D2E3FC;\n",
              "    }\n",
              "\n",
              "    [theme=dark] .colab-df-convert:hover {\n",
              "      background-color: #434B5C;\n",
              "      box-shadow: 0px 1px 3px 1px rgba(0, 0, 0, 0.15);\n",
              "      filter: drop-shadow(0px 1px 2px rgba(0, 0, 0, 0.3));\n",
              "      fill: #FFFFFF;\n",
              "    }\n",
              "  </style>\n",
              "\n",
              "      <script>\n",
              "        const buttonEl =\n",
              "          document.querySelector('#df-595db211-c021-4ec9-b3fc-de470476477a button.colab-df-convert');\n",
              "        buttonEl.style.display =\n",
              "          google.colab.kernel.accessAllowed ? 'block' : 'none';\n",
              "\n",
              "        async function convertToInteractive(key) {\n",
              "          const element = document.querySelector('#df-595db211-c021-4ec9-b3fc-de470476477a');\n",
              "          const dataTable =\n",
              "            await google.colab.kernel.invokeFunction('convertToInteractive',\n",
              "                                                     [key], {});\n",
              "          if (!dataTable) return;\n",
              "\n",
              "          const docLinkHtml = 'Like what you see? Visit the ' +\n",
              "            '<a target=\"_blank\" href=https://colab.research.google.com/notebooks/data_table.ipynb>data table notebook</a>'\n",
              "            + ' to learn more about interactive tables.';\n",
              "          element.innerHTML = '';\n",
              "          dataTable['output_type'] = 'display_data';\n",
              "          await google.colab.output.renderOutput(dataTable, element);\n",
              "          const docLink = document.createElement('div');\n",
              "          docLink.innerHTML = docLinkHtml;\n",
              "          element.appendChild(docLink);\n",
              "        }\n",
              "      </script>\n",
              "    </div>\n",
              "  </div>\n",
              "  "
            ]
          },
          "metadata": {},
          "execution_count": 26
        }
      ]
    },
    {
      "cell_type": "code",
      "source": [
        "df.describe()"
      ],
      "metadata": {
        "id": "fjcx1YY6I0cv",
        "colab": {
          "base_uri": "https://localhost:8080/",
          "height": 175
        },
        "outputId": "a0221f34-0a57-4fd2-ce3f-9f1ab106dd78"
      },
      "id": "fjcx1YY6I0cv",
      "execution_count": null,
      "outputs": [
        {
          "output_type": "execute_result",
          "data": {
            "text/plain": [
              "        Publisher                                        Description\n",
              "count       33065                                              33065\n",
              "unique       7234                                              32762\n",
              "top     Routledge  This scarce antiquarian book is a facsimile re...\n",
              "freq          532                                                 58"
            ],
            "text/html": [
              "\n",
              "  <div id=\"df-9d61f568-e0a2-4704-9100-e6045a4f0efa\">\n",
              "    <div class=\"colab-df-container\">\n",
              "      <div>\n",
              "<style scoped>\n",
              "    .dataframe tbody tr th:only-of-type {\n",
              "        vertical-align: middle;\n",
              "    }\n",
              "\n",
              "    .dataframe tbody tr th {\n",
              "        vertical-align: top;\n",
              "    }\n",
              "\n",
              "    .dataframe thead th {\n",
              "        text-align: right;\n",
              "    }\n",
              "</style>\n",
              "<table border=\"1\" class=\"dataframe\">\n",
              "  <thead>\n",
              "    <tr style=\"text-align: right;\">\n",
              "      <th></th>\n",
              "      <th>Publisher</th>\n",
              "      <th>Description</th>\n",
              "    </tr>\n",
              "  </thead>\n",
              "  <tbody>\n",
              "    <tr>\n",
              "      <th>count</th>\n",
              "      <td>33065</td>\n",
              "      <td>33065</td>\n",
              "    </tr>\n",
              "    <tr>\n",
              "      <th>unique</th>\n",
              "      <td>7234</td>\n",
              "      <td>32762</td>\n",
              "    </tr>\n",
              "    <tr>\n",
              "      <th>top</th>\n",
              "      <td>Routledge</td>\n",
              "      <td>This scarce antiquarian book is a facsimile re...</td>\n",
              "    </tr>\n",
              "    <tr>\n",
              "      <th>freq</th>\n",
              "      <td>532</td>\n",
              "      <td>58</td>\n",
              "    </tr>\n",
              "  </tbody>\n",
              "</table>\n",
              "</div>\n",
              "      <button class=\"colab-df-convert\" onclick=\"convertToInteractive('df-9d61f568-e0a2-4704-9100-e6045a4f0efa')\"\n",
              "              title=\"Convert this dataframe to an interactive table.\"\n",
              "              style=\"display:none;\">\n",
              "        \n",
              "  <svg xmlns=\"http://www.w3.org/2000/svg\" height=\"24px\"viewBox=\"0 0 24 24\"\n",
              "       width=\"24px\">\n",
              "    <path d=\"M0 0h24v24H0V0z\" fill=\"none\"/>\n",
              "    <path d=\"M18.56 5.44l.94 2.06.94-2.06 2.06-.94-2.06-.94-.94-2.06-.94 2.06-2.06.94zm-11 1L8.5 8.5l.94-2.06 2.06-.94-2.06-.94L8.5 2.5l-.94 2.06-2.06.94zm10 10l.94 2.06.94-2.06 2.06-.94-2.06-.94-.94-2.06-.94 2.06-2.06.94z\"/><path d=\"M17.41 7.96l-1.37-1.37c-.4-.4-.92-.59-1.43-.59-.52 0-1.04.2-1.43.59L10.3 9.45l-7.72 7.72c-.78.78-.78 2.05 0 2.83L4 21.41c.39.39.9.59 1.41.59.51 0 1.02-.2 1.41-.59l7.78-7.78 2.81-2.81c.8-.78.8-2.07 0-2.86zM5.41 20L4 18.59l7.72-7.72 1.47 1.35L5.41 20z\"/>\n",
              "  </svg>\n",
              "      </button>\n",
              "      \n",
              "  <style>\n",
              "    .colab-df-container {\n",
              "      display:flex;\n",
              "      flex-wrap:wrap;\n",
              "      gap: 12px;\n",
              "    }\n",
              "\n",
              "    .colab-df-convert {\n",
              "      background-color: #E8F0FE;\n",
              "      border: none;\n",
              "      border-radius: 50%;\n",
              "      cursor: pointer;\n",
              "      display: none;\n",
              "      fill: #1967D2;\n",
              "      height: 32px;\n",
              "      padding: 0 0 0 0;\n",
              "      width: 32px;\n",
              "    }\n",
              "\n",
              "    .colab-df-convert:hover {\n",
              "      background-color: #E2EBFA;\n",
              "      box-shadow: 0px 1px 2px rgba(60, 64, 67, 0.3), 0px 1px 3px 1px rgba(60, 64, 67, 0.15);\n",
              "      fill: #174EA6;\n",
              "    }\n",
              "\n",
              "    [theme=dark] .colab-df-convert {\n",
              "      background-color: #3B4455;\n",
              "      fill: #D2E3FC;\n",
              "    }\n",
              "\n",
              "    [theme=dark] .colab-df-convert:hover {\n",
              "      background-color: #434B5C;\n",
              "      box-shadow: 0px 1px 3px 1px rgba(0, 0, 0, 0.15);\n",
              "      filter: drop-shadow(0px 1px 2px rgba(0, 0, 0, 0.3));\n",
              "      fill: #FFFFFF;\n",
              "    }\n",
              "  </style>\n",
              "\n",
              "      <script>\n",
              "        const buttonEl =\n",
              "          document.querySelector('#df-9d61f568-e0a2-4704-9100-e6045a4f0efa button.colab-df-convert');\n",
              "        buttonEl.style.display =\n",
              "          google.colab.kernel.accessAllowed ? 'block' : 'none';\n",
              "\n",
              "        async function convertToInteractive(key) {\n",
              "          const element = document.querySelector('#df-9d61f568-e0a2-4704-9100-e6045a4f0efa');\n",
              "          const dataTable =\n",
              "            await google.colab.kernel.invokeFunction('convertToInteractive',\n",
              "                                                     [key], {});\n",
              "          if (!dataTable) return;\n",
              "\n",
              "          const docLinkHtml = 'Like what you see? Visit the ' +\n",
              "            '<a target=\"_blank\" href=https://colab.research.google.com/notebooks/data_table.ipynb>data table notebook</a>'\n",
              "            + ' to learn more about interactive tables.';\n",
              "          element.innerHTML = '';\n",
              "          dataTable['output_type'] = 'display_data';\n",
              "          await google.colab.output.renderOutput(dataTable, element);\n",
              "          const docLink = document.createElement('div');\n",
              "          docLink.innerHTML = docLinkHtml;\n",
              "          element.appendChild(docLink);\n",
              "        }\n",
              "      </script>\n",
              "    </div>\n",
              "  </div>\n",
              "  "
            ]
          },
          "metadata": {},
          "execution_count": 12
        }
      ]
    },
    {
      "cell_type": "code",
      "source": [
        "df.isnull().sum()"
      ],
      "metadata": {
        "id": "k4FYAKUoI5fr",
        "colab": {
          "base_uri": "https://localhost:8080/"
        },
        "outputId": "63c3a2c7-3c6c-4554-a41c-06f6f55575da"
      },
      "id": "k4FYAKUoI5fr",
      "execution_count": null,
      "outputs": [
        {
          "output_type": "execute_result",
          "data": {
            "text/plain": [
              "Publisher      0\n",
              "Description    0\n",
              "dtype: int64"
            ]
          },
          "metadata": {},
          "execution_count": 28
        }
      ]
    },
    {
      "cell_type": "code",
      "source": [
        "df.isnull().count()"
      ],
      "metadata": {
        "id": "2Lv7gl_RJB0P",
        "colab": {
          "base_uri": "https://localhost:8080/"
        },
        "outputId": "fc7d6282-be41-4fa9-8348-1f3d3e46a165"
      },
      "id": "2Lv7gl_RJB0P",
      "execution_count": null,
      "outputs": [
        {
          "output_type": "execute_result",
          "data": {
            "text/plain": [
              "Publisher      33065\n",
              "Description    33065\n",
              "dtype: int64"
            ]
          },
          "metadata": {},
          "execution_count": 29
        }
      ]
    },
    {
      "cell_type": "code",
      "source": [
        "df.info()"
      ],
      "metadata": {
        "id": "am_tjbkSJLj4",
        "colab": {
          "base_uri": "https://localhost:8080/"
        },
        "outputId": "2adef198-7744-4c4d-bccf-dd06c50ef426"
      },
      "id": "am_tjbkSJLj4",
      "execution_count": null,
      "outputs": [
        {
          "output_type": "stream",
          "name": "stdout",
          "text": [
            "<class 'pandas.core.frame.DataFrame'>\n",
            "Int64Index: 33065 entries, 0 to 33438\n",
            "Data columns (total 2 columns):\n",
            " #   Column       Non-Null Count  Dtype \n",
            "---  ------       --------------  ----- \n",
            " 0   Publisher    33065 non-null  object\n",
            " 1   Description  33065 non-null  object\n",
            "dtypes: object(2)\n",
            "memory usage: 775.0+ KB\n"
          ]
        }
      ]
    },
    {
      "cell_type": "code",
      "source": [
        "df.describe()"
      ],
      "metadata": {
        "id": "vPvsIplGI6nG",
        "colab": {
          "base_uri": "https://localhost:8080/",
          "height": 175
        },
        "outputId": "01982c89-c374-4ac6-b529-c0e5b811f954"
      },
      "id": "vPvsIplGI6nG",
      "execution_count": null,
      "outputs": [
        {
          "output_type": "execute_result",
          "data": {
            "text/plain": [
              "        Publisher                                        Description\n",
              "count       33065                                              33065\n",
              "unique       7234                                              32762\n",
              "top     Routledge  This scarce antiquarian book is a facsimile re...\n",
              "freq          532                                                 58"
            ],
            "text/html": [
              "\n",
              "  <div id=\"df-855f5a05-0717-4cce-b690-d59770ae8ec0\">\n",
              "    <div class=\"colab-df-container\">\n",
              "      <div>\n",
              "<style scoped>\n",
              "    .dataframe tbody tr th:only-of-type {\n",
              "        vertical-align: middle;\n",
              "    }\n",
              "\n",
              "    .dataframe tbody tr th {\n",
              "        vertical-align: top;\n",
              "    }\n",
              "\n",
              "    .dataframe thead th {\n",
              "        text-align: right;\n",
              "    }\n",
              "</style>\n",
              "<table border=\"1\" class=\"dataframe\">\n",
              "  <thead>\n",
              "    <tr style=\"text-align: right;\">\n",
              "      <th></th>\n",
              "      <th>Publisher</th>\n",
              "      <th>Description</th>\n",
              "    </tr>\n",
              "  </thead>\n",
              "  <tbody>\n",
              "    <tr>\n",
              "      <th>count</th>\n",
              "      <td>33065</td>\n",
              "      <td>33065</td>\n",
              "    </tr>\n",
              "    <tr>\n",
              "      <th>unique</th>\n",
              "      <td>7234</td>\n",
              "      <td>32762</td>\n",
              "    </tr>\n",
              "    <tr>\n",
              "      <th>top</th>\n",
              "      <td>Routledge</td>\n",
              "      <td>This scarce antiquarian book is a facsimile re...</td>\n",
              "    </tr>\n",
              "    <tr>\n",
              "      <th>freq</th>\n",
              "      <td>532</td>\n",
              "      <td>58</td>\n",
              "    </tr>\n",
              "  </tbody>\n",
              "</table>\n",
              "</div>\n",
              "      <button class=\"colab-df-convert\" onclick=\"convertToInteractive('df-855f5a05-0717-4cce-b690-d59770ae8ec0')\"\n",
              "              title=\"Convert this dataframe to an interactive table.\"\n",
              "              style=\"display:none;\">\n",
              "        \n",
              "  <svg xmlns=\"http://www.w3.org/2000/svg\" height=\"24px\"viewBox=\"0 0 24 24\"\n",
              "       width=\"24px\">\n",
              "    <path d=\"M0 0h24v24H0V0z\" fill=\"none\"/>\n",
              "    <path d=\"M18.56 5.44l.94 2.06.94-2.06 2.06-.94-2.06-.94-.94-2.06-.94 2.06-2.06.94zm-11 1L8.5 8.5l.94-2.06 2.06-.94-2.06-.94L8.5 2.5l-.94 2.06-2.06.94zm10 10l.94 2.06.94-2.06 2.06-.94-2.06-.94-.94-2.06-.94 2.06-2.06.94z\"/><path d=\"M17.41 7.96l-1.37-1.37c-.4-.4-.92-.59-1.43-.59-.52 0-1.04.2-1.43.59L10.3 9.45l-7.72 7.72c-.78.78-.78 2.05 0 2.83L4 21.41c.39.39.9.59 1.41.59.51 0 1.02-.2 1.41-.59l7.78-7.78 2.81-2.81c.8-.78.8-2.07 0-2.86zM5.41 20L4 18.59l7.72-7.72 1.47 1.35L5.41 20z\"/>\n",
              "  </svg>\n",
              "      </button>\n",
              "      \n",
              "  <style>\n",
              "    .colab-df-container {\n",
              "      display:flex;\n",
              "      flex-wrap:wrap;\n",
              "      gap: 12px;\n",
              "    }\n",
              "\n",
              "    .colab-df-convert {\n",
              "      background-color: #E8F0FE;\n",
              "      border: none;\n",
              "      border-radius: 50%;\n",
              "      cursor: pointer;\n",
              "      display: none;\n",
              "      fill: #1967D2;\n",
              "      height: 32px;\n",
              "      padding: 0 0 0 0;\n",
              "      width: 32px;\n",
              "    }\n",
              "\n",
              "    .colab-df-convert:hover {\n",
              "      background-color: #E2EBFA;\n",
              "      box-shadow: 0px 1px 2px rgba(60, 64, 67, 0.3), 0px 1px 3px 1px rgba(60, 64, 67, 0.15);\n",
              "      fill: #174EA6;\n",
              "    }\n",
              "\n",
              "    [theme=dark] .colab-df-convert {\n",
              "      background-color: #3B4455;\n",
              "      fill: #D2E3FC;\n",
              "    }\n",
              "\n",
              "    [theme=dark] .colab-df-convert:hover {\n",
              "      background-color: #434B5C;\n",
              "      box-shadow: 0px 1px 3px 1px rgba(0, 0, 0, 0.15);\n",
              "      filter: drop-shadow(0px 1px 2px rgba(0, 0, 0, 0.3));\n",
              "      fill: #FFFFFF;\n",
              "    }\n",
              "  </style>\n",
              "\n",
              "      <script>\n",
              "        const buttonEl =\n",
              "          document.querySelector('#df-855f5a05-0717-4cce-b690-d59770ae8ec0 button.colab-df-convert');\n",
              "        buttonEl.style.display =\n",
              "          google.colab.kernel.accessAllowed ? 'block' : 'none';\n",
              "\n",
              "        async function convertToInteractive(key) {\n",
              "          const element = document.querySelector('#df-855f5a05-0717-4cce-b690-d59770ae8ec0');\n",
              "          const dataTable =\n",
              "            await google.colab.kernel.invokeFunction('convertToInteractive',\n",
              "                                                     [key], {});\n",
              "          if (!dataTable) return;\n",
              "\n",
              "          const docLinkHtml = 'Like what you see? Visit the ' +\n",
              "            '<a target=\"_blank\" href=https://colab.research.google.com/notebooks/data_table.ipynb>data table notebook</a>'\n",
              "            + ' to learn more about interactive tables.';\n",
              "          element.innerHTML = '';\n",
              "          dataTable['output_type'] = 'display_data';\n",
              "          await google.colab.output.renderOutput(dataTable, element);\n",
              "          const docLink = document.createElement('div');\n",
              "          docLink.innerHTML = docLinkHtml;\n",
              "          element.appendChild(docLink);\n",
              "        }\n",
              "      </script>\n",
              "    </div>\n",
              "  </div>\n",
              "  "
            ]
          },
          "metadata": {},
          "execution_count": 31
        }
      ]
    },
    {
      "cell_type": "code",
      "source": [
        "df.dropna(inplace=True)\n",
        "df.info(show_counts=True)"
      ],
      "metadata": {
        "id": "5UH0T-hGJUOR",
        "colab": {
          "base_uri": "https://localhost:8080/"
        },
        "outputId": "376f24fa-e020-4a2a-f39f-fe14a3f684f9"
      },
      "id": "5UH0T-hGJUOR",
      "execution_count": null,
      "outputs": [
        {
          "output_type": "stream",
          "name": "stdout",
          "text": [
            "<class 'pandas.core.frame.DataFrame'>\n",
            "Int64Index: 33065 entries, 0 to 33438\n",
            "Data columns (total 2 columns):\n",
            " #   Column       Non-Null Count  Dtype \n",
            "---  ------       --------------  ----- \n",
            " 0   Publisher    33065 non-null  object\n",
            " 1   Description  33065 non-null  object\n",
            "dtypes: object(2)\n",
            "memory usage: 775.0+ KB\n"
          ]
        }
      ]
    },
    {
      "cell_type": "code",
      "execution_count": null,
      "id": "c501f617",
      "metadata": {
        "id": "c501f617"
      },
      "outputs": [],
      "source": [
        "# these 2 columns are probably the only columns i need\n",
        "# full_ds = df[[\"Publisher\", \"Description\"]]"
      ]
    },
    {
      "cell_type": "code",
      "execution_count": null,
      "id": "5205a35d",
      "metadata": {
        "id": "5205a35d"
      },
      "outputs": [],
      "source": [
        "# print(full_ds[\"Description\"])"
      ]
    },
    {
      "cell_type": "code",
      "source": [],
      "metadata": {
        "id": "aTjbd_Nj_TQM"
      },
      "id": "aTjbd_Nj_TQM",
      "execution_count": null,
      "outputs": []
    },
    {
      "cell_type": "code",
      "source": [
        "# full_ds.info()"
      ],
      "metadata": {
        "id": "5lPHWR8i_dyR"
      },
      "id": "5lPHWR8i_dyR",
      "execution_count": null,
      "outputs": []
    },
    {
      "cell_type": "code",
      "source": [],
      "metadata": {
        "id": "ufFn8NcH_fXk"
      },
      "id": "ufFn8NcH_fXk",
      "execution_count": null,
      "outputs": []
    },
    {
      "cell_type": "code",
      "source": [
        "df = df.dropna()"
      ],
      "metadata": {
        "id": "RckvXth4_rGv"
      },
      "id": "RckvXth4_rGv",
      "execution_count": null,
      "outputs": []
    },
    {
      "cell_type": "code",
      "source": [
        "df"
      ],
      "metadata": {
        "id": "nDzAfDZd_UYd",
        "colab": {
          "base_uri": "https://localhost:8080/",
          "height": 423
        },
        "outputId": "5f077344-cc4a-45bd-cc23-6c22ba44e17d"
      },
      "id": "nDzAfDZd_UYd",
      "execution_count": null,
      "outputs": [
        {
          "output_type": "execute_result",
          "data": {
            "text/plain": [
              "                                Publisher  \\\n",
              "0                         Epicenter Press   \n",
              "1      Southern Illinois University Press   \n",
              "2                Practising Law Institute   \n",
              "3            Oxford University Press, USA   \n",
              "4                               Not Avail   \n",
              "...                                   ...   \n",
              "33434                                ARCO   \n",
              "33435                   Sierra Club Books   \n",
              "33436                       Cameron Books   \n",
              "33437                       Cameron Books   \n",
              "33438                  Thomas Dunne Books   \n",
              "\n",
              "                                             Description  \n",
              "0      In the wake of national tragedies and an econo...  \n",
              "1      Though well publicized in Europe, and with eno...  \n",
              "2      As globalisation accelerates, more tax-advanta...  \n",
              "3      This exciting anthology provides the best of t...  \n",
              "4      Demonstrating the centrality of gender in the ...  \n",
              "...                                                  ...  \n",
              "33434  Discusses acquiring, training, and riding a ho...  \n",
              "33435  The San Francisco Bay Area abounds in natural ...  \n",
              "33436  Above Carmel, Monterey and Big Sur. Now you ca...  \n",
              "33437                                     Above Yosemite  \n",
              "33438  Just as Marike takes her first adult steps tow...  \n",
              "\n",
              "[33065 rows x 2 columns]"
            ],
            "text/html": [
              "\n",
              "  <div id=\"df-34a9d4aa-366e-49c0-97ce-6aebd6ea324f\">\n",
              "    <div class=\"colab-df-container\">\n",
              "      <div>\n",
              "<style scoped>\n",
              "    .dataframe tbody tr th:only-of-type {\n",
              "        vertical-align: middle;\n",
              "    }\n",
              "\n",
              "    .dataframe tbody tr th {\n",
              "        vertical-align: top;\n",
              "    }\n",
              "\n",
              "    .dataframe thead th {\n",
              "        text-align: right;\n",
              "    }\n",
              "</style>\n",
              "<table border=\"1\" class=\"dataframe\">\n",
              "  <thead>\n",
              "    <tr style=\"text-align: right;\">\n",
              "      <th></th>\n",
              "      <th>Publisher</th>\n",
              "      <th>Description</th>\n",
              "    </tr>\n",
              "  </thead>\n",
              "  <tbody>\n",
              "    <tr>\n",
              "      <th>0</th>\n",
              "      <td>Epicenter Press</td>\n",
              "      <td>In the wake of national tragedies and an econo...</td>\n",
              "    </tr>\n",
              "    <tr>\n",
              "      <th>1</th>\n",
              "      <td>Southern Illinois University Press</td>\n",
              "      <td>Though well publicized in Europe, and with eno...</td>\n",
              "    </tr>\n",
              "    <tr>\n",
              "      <th>2</th>\n",
              "      <td>Practising Law Institute</td>\n",
              "      <td>As globalisation accelerates, more tax-advanta...</td>\n",
              "    </tr>\n",
              "    <tr>\n",
              "      <th>3</th>\n",
              "      <td>Oxford University Press, USA</td>\n",
              "      <td>This exciting anthology provides the best of t...</td>\n",
              "    </tr>\n",
              "    <tr>\n",
              "      <th>4</th>\n",
              "      <td>Not Avail</td>\n",
              "      <td>Demonstrating the centrality of gender in the ...</td>\n",
              "    </tr>\n",
              "    <tr>\n",
              "      <th>...</th>\n",
              "      <td>...</td>\n",
              "      <td>...</td>\n",
              "    </tr>\n",
              "    <tr>\n",
              "      <th>33434</th>\n",
              "      <td>ARCO</td>\n",
              "      <td>Discusses acquiring, training, and riding a ho...</td>\n",
              "    </tr>\n",
              "    <tr>\n",
              "      <th>33435</th>\n",
              "      <td>Sierra Club Books</td>\n",
              "      <td>The San Francisco Bay Area abounds in natural ...</td>\n",
              "    </tr>\n",
              "    <tr>\n",
              "      <th>33436</th>\n",
              "      <td>Cameron Books</td>\n",
              "      <td>Above Carmel, Monterey and Big Sur. Now you ca...</td>\n",
              "    </tr>\n",
              "    <tr>\n",
              "      <th>33437</th>\n",
              "      <td>Cameron Books</td>\n",
              "      <td>Above Yosemite</td>\n",
              "    </tr>\n",
              "    <tr>\n",
              "      <th>33438</th>\n",
              "      <td>Thomas Dunne Books</td>\n",
              "      <td>Just as Marike takes her first adult steps tow...</td>\n",
              "    </tr>\n",
              "  </tbody>\n",
              "</table>\n",
              "<p>33065 rows × 2 columns</p>\n",
              "</div>\n",
              "      <button class=\"colab-df-convert\" onclick=\"convertToInteractive('df-34a9d4aa-366e-49c0-97ce-6aebd6ea324f')\"\n",
              "              title=\"Convert this dataframe to an interactive table.\"\n",
              "              style=\"display:none;\">\n",
              "        \n",
              "  <svg xmlns=\"http://www.w3.org/2000/svg\" height=\"24px\"viewBox=\"0 0 24 24\"\n",
              "       width=\"24px\">\n",
              "    <path d=\"M0 0h24v24H0V0z\" fill=\"none\"/>\n",
              "    <path d=\"M18.56 5.44l.94 2.06.94-2.06 2.06-.94-2.06-.94-.94-2.06-.94 2.06-2.06.94zm-11 1L8.5 8.5l.94-2.06 2.06-.94-2.06-.94L8.5 2.5l-.94 2.06-2.06.94zm10 10l.94 2.06.94-2.06 2.06-.94-2.06-.94-.94-2.06-.94 2.06-2.06.94z\"/><path d=\"M17.41 7.96l-1.37-1.37c-.4-.4-.92-.59-1.43-.59-.52 0-1.04.2-1.43.59L10.3 9.45l-7.72 7.72c-.78.78-.78 2.05 0 2.83L4 21.41c.39.39.9.59 1.41.59.51 0 1.02-.2 1.41-.59l7.78-7.78 2.81-2.81c.8-.78.8-2.07 0-2.86zM5.41 20L4 18.59l7.72-7.72 1.47 1.35L5.41 20z\"/>\n",
              "  </svg>\n",
              "      </button>\n",
              "      \n",
              "  <style>\n",
              "    .colab-df-container {\n",
              "      display:flex;\n",
              "      flex-wrap:wrap;\n",
              "      gap: 12px;\n",
              "    }\n",
              "\n",
              "    .colab-df-convert {\n",
              "      background-color: #E8F0FE;\n",
              "      border: none;\n",
              "      border-radius: 50%;\n",
              "      cursor: pointer;\n",
              "      display: none;\n",
              "      fill: #1967D2;\n",
              "      height: 32px;\n",
              "      padding: 0 0 0 0;\n",
              "      width: 32px;\n",
              "    }\n",
              "\n",
              "    .colab-df-convert:hover {\n",
              "      background-color: #E2EBFA;\n",
              "      box-shadow: 0px 1px 2px rgba(60, 64, 67, 0.3), 0px 1px 3px 1px rgba(60, 64, 67, 0.15);\n",
              "      fill: #174EA6;\n",
              "    }\n",
              "\n",
              "    [theme=dark] .colab-df-convert {\n",
              "      background-color: #3B4455;\n",
              "      fill: #D2E3FC;\n",
              "    }\n",
              "\n",
              "    [theme=dark] .colab-df-convert:hover {\n",
              "      background-color: #434B5C;\n",
              "      box-shadow: 0px 1px 3px 1px rgba(0, 0, 0, 0.15);\n",
              "      filter: drop-shadow(0px 1px 2px rgba(0, 0, 0, 0.3));\n",
              "      fill: #FFFFFF;\n",
              "    }\n",
              "  </style>\n",
              "\n",
              "      <script>\n",
              "        const buttonEl =\n",
              "          document.querySelector('#df-34a9d4aa-366e-49c0-97ce-6aebd6ea324f button.colab-df-convert');\n",
              "        buttonEl.style.display =\n",
              "          google.colab.kernel.accessAllowed ? 'block' : 'none';\n",
              "\n",
              "        async function convertToInteractive(key) {\n",
              "          const element = document.querySelector('#df-34a9d4aa-366e-49c0-97ce-6aebd6ea324f');\n",
              "          const dataTable =\n",
              "            await google.colab.kernel.invokeFunction('convertToInteractive',\n",
              "                                                     [key], {});\n",
              "          if (!dataTable) return;\n",
              "\n",
              "          const docLinkHtml = 'Like what you see? Visit the ' +\n",
              "            '<a target=\"_blank\" href=https://colab.research.google.com/notebooks/data_table.ipynb>data table notebook</a>'\n",
              "            + ' to learn more about interactive tables.';\n",
              "          element.innerHTML = '';\n",
              "          dataTable['output_type'] = 'display_data';\n",
              "          await google.colab.output.renderOutput(dataTable, element);\n",
              "          const docLink = document.createElement('div');\n",
              "          docLink.innerHTML = docLinkHtml;\n",
              "          element.appendChild(docLink);\n",
              "        }\n",
              "      </script>\n",
              "    </div>\n",
              "  </div>\n",
              "  "
            ]
          },
          "metadata": {},
          "execution_count": 15
        }
      ]
    },
    {
      "cell_type": "code",
      "execution_count": null,
      "id": "ce98d040",
      "metadata": {
        "id": "ce98d040"
      },
      "outputs": [],
      "source": [
        "\n"
      ]
    },
    {
      "cell_type": "code",
      "execution_count": null,
      "id": "0c8188c5",
      "metadata": {
        "id": "0c8188c5"
      },
      "outputs": [],
      "source": [
        "\n",
        "\n",
        "#this quick overview shows me that there are descriptions missing"
      ]
    },
    {
      "cell_type": "code",
      "execution_count": null,
      "id": "cd209545",
      "metadata": {
        "scrolled": true,
        "id": "cd209545"
      },
      "outputs": [],
      "source": [
        "\n",
        "# objects for both publisher and description is correct"
      ]
    },
    {
      "cell_type": "code",
      "execution_count": null,
      "id": "90af1e76",
      "metadata": {
        "scrolled": true,
        "id": "90af1e76"
      },
      "outputs": [],
      "source": []
    },
    {
      "cell_type": "code",
      "execution_count": null,
      "id": "0f5bae6e",
      "metadata": {
        "id": "0f5bae6e"
      },
      "outputs": [],
      "source": [
        "# I decided to remove the rows with the missing data (either missing publisher or missing description)\n",
        "# by doing this I got rid of approximately 700k rows, but I have 1.1million rows left, which I think is acceptable to work with\n",
        "# I think trying to find the publishers and descriptions of the 700k rows would be too time consuming\n",
        "# pub_desc = pub_desc.dropna()\n",
        "# print(pub_desc)"
      ]
    },
    {
      "cell_type": "code",
      "execution_count": null,
      "id": "abef7295",
      "metadata": {
        "id": "abef7295"
      },
      "outputs": [],
      "source": [
        "# reset the index\n",
        "# pub_desc = pub_desc.reset_index(drop=True)\n",
        "# print(pub_desc)"
      ]
    },
    {
      "cell_type": "code",
      "execution_count": null,
      "id": "67f01702",
      "metadata": {
        "scrolled": false,
        "id": "67f01702"
      },
      "outputs": [],
      "source": [
        "# now to check if there are duplicate rows\n",
        "# column_names = ['Publisher', 'Description']\n",
        "# duplicates = pub_desc.duplicated(subset = column_names, keep = False )\n",
        "# pub_desc[duplicates].sort_values(by = \"Description\")"
      ]
    },
    {
      "cell_type": "code",
      "execution_count": null,
      "id": "30c55c28",
      "metadata": {
        "id": "30c55c28"
      },
      "outputs": [],
      "source": [
        "# going to drop duplicates as it wont add any value,\n",
        "# but a new problem is non english characters which I have to figure out what to do about.\n"
      ]
    },
    {
      "cell_type": "code",
      "execution_count": null,
      "id": "7450afef",
      "metadata": {
        "id": "7450afef"
      },
      "outputs": [],
      "source": [
        "\n",
        "#great no more duplications!"
      ]
    },
    {
      "cell_type": "code",
      "execution_count": null,
      "id": "e914900a",
      "metadata": {
        "scrolled": true,
        "id": "e914900a",
        "colab": {
          "base_uri": "https://localhost:8080/",
          "height": 325
        },
        "outputId": "c6b1a424-af55-4bf7-ec47-2d597ea86a7a"
      },
      "outputs": [
        {
          "output_type": "display_data",
          "data": {
            "text/plain": [
              "<Figure size 576x360 with 1 Axes>"
            ],
            "image/png": "[encoded data removed]"
          },
          "metadata": {
            "needs_background": "light"
          }
        }
      ],
      "source": [
        "df['Publisher'].value_counts()[0:3].plot(kind = 'barh', figsize=[8,5], fontsize=15, color='navy').invert_yaxis()"
      ]
    },
    {
      "cell_type": "code",
      "source": [
        "!pip install rake-nltk"
      ],
      "metadata": {
        "id": "QMkHqfmptjt1",
        "colab": {
          "base_uri": "https://localhost:8080/"
        },
        "outputId": "b0e8bbdc-c8e3-4794-9784-ce2c7620d6fa"
      },
      "id": "QMkHqfmptjt1",
      "execution_count": null,
      "outputs": [
        {
          "output_type": "stream",
          "name": "stdout",
          "text": [
            "Looking in indexes: https://pypi.org/simple, https://us-python.pkg.dev/colab-wheels/public/simple/\n",
            "Collecting rake-nltk\n",
            "  Downloading rake_nltk-1.0.6-py3-none-any.whl (9.1 kB)\n",
            "Requirement already satisfied: nltk<4.0.0,>=3.6.2 in /usr/local/lib/python3.7/dist-packages (from rake-nltk) (3.7)\n",
            "Requirement already satisfied: click in /usr/local/lib/python3.7/dist-packages (from nltk<4.0.0,>=3.6.2->rake-nltk) (7.1.2)\n",
            "Requirement already satisfied: joblib in /usr/local/lib/python3.7/dist-packages (from nltk<4.0.0,>=3.6.2->rake-nltk) (1.1.0)\n",
            "Requirement already satisfied: regex>=2021.8.3 in /usr/local/lib/python3.7/dist-packages (from nltk<4.0.0,>=3.6.2->rake-nltk) (2022.6.2)\n",
            "Requirement already satisfied: tqdm in /usr/local/lib/python3.7/dist-packages (from nltk<4.0.0,>=3.6.2->rake-nltk) (4.64.0)\n",
            "Installing collected packages: rake-nltk\n",
            "Successfully installed rake-nltk-1.0.6\n"
          ]
        }
      ]
    },
    {
      "cell_type": "code",
      "execution_count": null,
      "id": "1a3ab0c9",
      "metadata": {
        "scrolled": true,
        "id": "1a3ab0c9"
      },
      "outputs": [],
      "source": [
        "from rake_nltk import Rake"
      ]
    },
    {
      "cell_type": "code",
      "execution_count": null,
      "id": "43f7d888",
      "metadata": {
        "id": "43f7d888"
      },
      "outputs": [],
      "source": [
        "# import RAKE"
      ]
    },
    {
      "cell_type": "code",
      "source": [
        "import nltk\n",
        "nltk.download(\"stopwords\")"
      ],
      "metadata": {
        "id": "YzhB1RCztd_x",
        "colab": {
          "base_uri": "https://localhost:8080/"
        },
        "outputId": "84be91ac-8034-4598-9f0d-cf344e158ee3"
      },
      "id": "YzhB1RCztd_x",
      "execution_count": null,
      "outputs": [
        {
          "output_type": "stream",
          "name": "stderr",
          "text": [
            "[nltk_data] Downloading package stopwords to /root/nltk_data...\n",
            "[nltk_data]   Unzipping corpora/stopwords.zip.\n"
          ]
        },
        {
          "output_type": "execute_result",
          "data": {
            "text/plain": [
              "True"
            ]
          },
          "metadata": {},
          "execution_count": 19
        }
      ]
    },
    {
      "cell_type": "code",
      "source": [
        "import nltk\n",
        "nltk.download('punkt')"
      ],
      "metadata": {
        "id": "3lO3iZL2tfVU",
        "colab": {
          "base_uri": "https://localhost:8080/"
        },
        "outputId": "19071fc2-8332-4fca-995a-7d58706becc2"
      },
      "id": "3lO3iZL2tfVU",
      "execution_count": null,
      "outputs": [
        {
          "output_type": "stream",
          "name": "stderr",
          "text": [
            "[nltk_data] Downloading package punkt to /root/nltk_data...\n",
            "[nltk_data]   Unzipping tokenizers/punkt.zip.\n"
          ]
        },
        {
          "output_type": "execute_result",
          "data": {
            "text/plain": [
              "True"
            ]
          },
          "metadata": {},
          "execution_count": 21
        }
      ]
    },
    {
      "cell_type": "code",
      "source": [
        "df['Key_words'] = ''\n",
        "r = Rake()\n",
        "for index, row in df.iterrows():\n",
        "        r.extract_keywords_from_text(row['Description'])\n",
        "        key_words_dict_scores = r.get_word_degrees()\n",
        "        row['Key_words'] = list(key_words_dict_scores.keys())"
      ],
      "metadata": {
        "id": "45sZ_qlSthXU"
      },
      "id": "45sZ_qlSthXU",
      "execution_count": null,
      "outputs": []
    },
    {
      "cell_type": "code",
      "source": [
        "df"
      ],
      "metadata": {
        "id": "c4kQXYjNt9UQ",
        "colab": {
          "base_uri": "https://localhost:8080/",
          "height": 423
        },
        "outputId": "1ab34ce7-8963-4557-b36d-731b3bb2686e"
      },
      "id": "c4kQXYjNt9UQ",
      "execution_count": null,
      "outputs": [
        {
          "output_type": "execute_result",
          "data": {
            "text/plain": [
              "                                Publisher  \\\n",
              "0                         Epicenter Press   \n",
              "1      Southern Illinois University Press   \n",
              "2                Practising Law Institute   \n",
              "3            Oxford University Press, USA   \n",
              "4                               Not Avail   \n",
              "...                                   ...   \n",
              "33434                                ARCO   \n",
              "33435                   Sierra Club Books   \n",
              "33436                       Cameron Books   \n",
              "33437                       Cameron Books   \n",
              "33438                  Thomas Dunne Books   \n",
              "\n",
              "                                             Description  \\\n",
              "0      In the wake of national tragedies and an econo...   \n",
              "1      Though well publicized in Europe, and with eno...   \n",
              "2      As globalisation accelerates, more tax-advanta...   \n",
              "3      This exciting anthology provides the best of t...   \n",
              "4      Demonstrating the centrality of gender in the ...   \n",
              "...                                                  ...   \n",
              "33434  Discusses acquiring, training, and riding a ho...   \n",
              "33435  The San Francisco Bay Area abounds in natural ...   \n",
              "33436  Above Carmel, Monterey and Big Sur. Now you ca...   \n",
              "33437                                     Above Yosemite   \n",
              "33438  Just as Marike takes her first adult steps tow...   \n",
              "\n",
              "                                               Key_words  \n",
              "0      [wake, national, tragedies, economic, downturn...  \n",
              "1      [though, well, publicized, europe, enormous, b...  \n",
              "2      [globalisation, accelerates, tax, advantaged, ...  \n",
              "3      [exciting, anthology, provides, best, travel, ...  \n",
              "4      [demonstrating, centrality, gender, formation,...  \n",
              "...                                                  ...  \n",
              "33434  [discusses, acquiring, training, riding, horse...  \n",
              "33435  [san, francisco, bay, area, abounds, natural, ...  \n",
              "33436  [carmel, monterey, big, sur, see, fabulous, pl...  \n",
              "33437                                         [yosemite]  \n",
              "33438  [marike, takes, first, adult, steps, toward, l...  \n",
              "\n",
              "[33065 rows x 3 columns]"
            ],
            "text/html": [
              "\n",
              "  <div id=\"df-f2c11634-9150-47d6-ab69-07521d9d5810\">\n",
              "    <div class=\"colab-df-container\">\n",
              "      <div>\n",
              "<style scoped>\n",
              "    .dataframe tbody tr th:only-of-type {\n",
              "        vertical-align: middle;\n",
              "    }\n",
              "\n",
              "    .dataframe tbody tr th {\n",
              "        vertical-align: top;\n",
              "    }\n",
              "\n",
              "    .dataframe thead th {\n",
              "        text-align: right;\n",
              "    }\n",
              "</style>\n",
              "<table border=\"1\" class=\"dataframe\">\n",
              "  <thead>\n",
              "    <tr style=\"text-align: right;\">\n",
              "      <th></th>\n",
              "      <th>Publisher</th>\n",
              "      <th>Description</th>\n",
              "      <th>Key_words</th>\n",
              "    </tr>\n",
              "  </thead>\n",
              "  <tbody>\n",
              "    <tr>\n",
              "      <th>0</th>\n",
              "      <td>Epicenter Press</td>\n",
              "      <td>In the wake of national tragedies and an econo...</td>\n",
              "      <td>[wake, national, tragedies, economic, downturn...</td>\n",
              "    </tr>\n",
              "    <tr>\n",
              "      <th>1</th>\n",
              "      <td>Southern Illinois University Press</td>\n",
              "      <td>Though well publicized in Europe, and with eno...</td>\n",
              "      <td>[though, well, publicized, europe, enormous, b...</td>\n",
              "    </tr>\n",
              "    <tr>\n",
              "      <th>2</th>\n",
              "      <td>Practising Law Institute</td>\n",
              "      <td>As globalisation accelerates, more tax-advanta...</td>\n",
              "      <td>[globalisation, accelerates, tax, advantaged, ...</td>\n",
              "    </tr>\n",
              "    <tr>\n",
              "      <th>3</th>\n",
              "      <td>Oxford University Press, USA</td>\n",
              "      <td>This exciting anthology provides the best of t...</td>\n",
              "      <td>[exciting, anthology, provides, best, travel, ...</td>\n",
              "    </tr>\n",
              "    <tr>\n",
              "      <th>4</th>\n",
              "      <td>Not Avail</td>\n",
              "      <td>Demonstrating the centrality of gender in the ...</td>\n",
              "      <td>[demonstrating, centrality, gender, formation,...</td>\n",
              "    </tr>\n",
              "    <tr>\n",
              "      <th>...</th>\n",
              "      <td>...</td>\n",
              "      <td>...</td>\n",
              "      <td>...</td>\n",
              "    </tr>\n",
              "    <tr>\n",
              "      <th>33434</th>\n",
              "      <td>ARCO</td>\n",
              "      <td>Discusses acquiring, training, and riding a ho...</td>\n",
              "      <td>[discusses, acquiring, training, riding, horse...</td>\n",
              "    </tr>\n",
              "    <tr>\n",
              "      <th>33435</th>\n",
              "      <td>Sierra Club Books</td>\n",
              "      <td>The San Francisco Bay Area abounds in natural ...</td>\n",
              "      <td>[san, francisco, bay, area, abounds, natural, ...</td>\n",
              "    </tr>\n",
              "    <tr>\n",
              "      <th>33436</th>\n",
              "      <td>Cameron Books</td>\n",
              "      <td>Above Carmel, Monterey and Big Sur. Now you ca...</td>\n",
              "      <td>[carmel, monterey, big, sur, see, fabulous, pl...</td>\n",
              "    </tr>\n",
              "    <tr>\n",
              "      <th>33437</th>\n",
              "      <td>Cameron Books</td>\n",
              "      <td>Above Yosemite</td>\n",
              "      <td>[yosemite]</td>\n",
              "    </tr>\n",
              "    <tr>\n",
              "      <th>33438</th>\n",
              "      <td>Thomas Dunne Books</td>\n",
              "      <td>Just as Marike takes her first adult steps tow...</td>\n",
              "      <td>[marike, takes, first, adult, steps, toward, l...</td>\n",
              "    </tr>\n",
              "  </tbody>\n",
              "</table>\n",
              "<p>33065 rows × 3 columns</p>\n",
              "</div>\n",
              "      <button class=\"colab-df-convert\" onclick=\"convertToInteractive('df-f2c11634-9150-47d6-ab69-07521d9d5810')\"\n",
              "              title=\"Convert this dataframe to an interactive table.\"\n",
              "              style=\"display:none;\">\n",
              "        \n",
              "  <svg xmlns=\"http://www.w3.org/2000/svg\" height=\"24px\"viewBox=\"0 0 24 24\"\n",
              "       width=\"24px\">\n",
              "    <path d=\"M0 0h24v24H0V0z\" fill=\"none\"/>\n",
              "    <path d=\"M18.56 5.44l.94 2.06.94-2.06 2.06-.94-2.06-.94-.94-2.06-.94 2.06-2.06.94zm-11 1L8.5 8.5l.94-2.06 2.06-.94-2.06-.94L8.5 2.5l-.94 2.06-2.06.94zm10 10l.94 2.06.94-2.06 2.06-.94-2.06-.94-.94-2.06-.94 2.06-2.06.94z\"/><path d=\"M17.41 7.96l-1.37-1.37c-.4-.4-.92-.59-1.43-.59-.52 0-1.04.2-1.43.59L10.3 9.45l-7.72 7.72c-.78.78-.78 2.05 0 2.83L4 21.41c.39.39.9.59 1.41.59.51 0 1.02-.2 1.41-.59l7.78-7.78 2.81-2.81c.8-.78.8-2.07 0-2.86zM5.41 20L4 18.59l7.72-7.72 1.47 1.35L5.41 20z\"/>\n",
              "  </svg>\n",
              "      </button>\n",
              "      \n",
              "  <style>\n",
              "    .colab-df-container {\n",
              "      display:flex;\n",
              "      flex-wrap:wrap;\n",
              "      gap: 12px;\n",
              "    }\n",
              "\n",
              "    .colab-df-convert {\n",
              "      background-color: #E8F0FE;\n",
              "      border: none;\n",
              "      border-radius: 50%;\n",
              "      cursor: pointer;\n",
              "      display: none;\n",
              "      fill: #1967D2;\n",
              "      height: 32px;\n",
              "      padding: 0 0 0 0;\n",
              "      width: 32px;\n",
              "    }\n",
              "\n",
              "    .colab-df-convert:hover {\n",
              "      background-color: #E2EBFA;\n",
              "      box-shadow: 0px 1px 2px rgba(60, 64, 67, 0.3), 0px 1px 3px 1px rgba(60, 64, 67, 0.15);\n",
              "      fill: #174EA6;\n",
              "    }\n",
              "\n",
              "    [theme=dark] .colab-df-convert {\n",
              "      background-color: #3B4455;\n",
              "      fill: #D2E3FC;\n",
              "    }\n",
              "\n",
              "    [theme=dark] .colab-df-convert:hover {\n",
              "      background-color: #434B5C;\n",
              "      box-shadow: 0px 1px 3px 1px rgba(0, 0, 0, 0.15);\n",
              "      filter: drop-shadow(0px 1px 2px rgba(0, 0, 0, 0.3));\n",
              "      fill: #FFFFFF;\n",
              "    }\n",
              "  </style>\n",
              "\n",
              "      <script>\n",
              "        const buttonEl =\n",
              "          document.querySelector('#df-f2c11634-9150-47d6-ab69-07521d9d5810 button.colab-df-convert');\n",
              "        buttonEl.style.display =\n",
              "          google.colab.kernel.accessAllowed ? 'block' : 'none';\n",
              "\n",
              "        async function convertToInteractive(key) {\n",
              "          const element = document.querySelector('#df-f2c11634-9150-47d6-ab69-07521d9d5810');\n",
              "          const dataTable =\n",
              "            await google.colab.kernel.invokeFunction('convertToInteractive',\n",
              "                                                     [key], {});\n",
              "          if (!dataTable) return;\n",
              "\n",
              "          const docLinkHtml = 'Like what you see? Visit the ' +\n",
              "            '<a target=\"_blank\" href=https://colab.research.google.com/notebooks/data_table.ipynb>data table notebook</a>'\n",
              "            + ' to learn more about interactive tables.';\n",
              "          element.innerHTML = '';\n",
              "          dataTable['output_type'] = 'display_data';\n",
              "          await google.colab.output.renderOutput(dataTable, element);\n",
              "          const docLink = document.createElement('div');\n",
              "          docLink.innerHTML = docLinkHtml;\n",
              "          element.appendChild(docLink);\n",
              "        }\n",
              "      </script>\n",
              "    </div>\n",
              "  </div>\n",
              "  "
            ]
          },
          "metadata": {},
          "execution_count": 52
        }
      ]
    },
    {
      "cell_type": "code",
      "source": [
        "# I'm going to check this later\n",
        "df['Publisher'] = df['Publisher'].map(lambda x: x.split(','))\n",
        "\n",
        "for index, row in df.iterrows():\n",
        "\n",
        "    row['Publisher'] = [x.lower().replace(' ','') for x in row['Publisher']]\n",
        ""
      ],
      "metadata": {
        "id": "XOyJhp-bt-NM"
      },
      "id": "XOyJhp-bt-NM",
      "execution_count": null,
      "outputs": []
    },
    {
      "cell_type": "code",
      "source": [
        "df"
      ],
      "metadata": {
        "id": "0HO0ln40uIj8",
        "colab": {
          "base_uri": "https://localhost:8080/",
          "height": 423
        },
        "outputId": "2563a9e2-a541-47d0-e14c-a55ba7b4d336"
      },
      "id": "0HO0ln40uIj8",
      "execution_count": null,
      "outputs": [
        {
          "output_type": "execute_result",
          "data": {
            "text/plain": [
              "                               Publisher  \\\n",
              "0                       [epicenterpress]   \n",
              "1      [southernillinoisuniversitypress]   \n",
              "2               [practisinglawinstitute]   \n",
              "3           [oxforduniversitypress, usa]   \n",
              "4                             [notavail]   \n",
              "...                                  ...   \n",
              "33434                             [arco]   \n",
              "33435                  [sierraclubbooks]   \n",
              "33436                     [cameronbooks]   \n",
              "33437                     [cameronbooks]   \n",
              "33438                 [thomasdunnebooks]   \n",
              "\n",
              "                                             Description  \\\n",
              "0      In the wake of national tragedies and an econo...   \n",
              "1      Though well publicized in Europe, and with eno...   \n",
              "2      As globalisation accelerates, more tax-advanta...   \n",
              "3      This exciting anthology provides the best of t...   \n",
              "4      Demonstrating the centrality of gender in the ...   \n",
              "...                                                  ...   \n",
              "33434  Discusses acquiring, training, and riding a ho...   \n",
              "33435  The San Francisco Bay Area abounds in natural ...   \n",
              "33436  Above Carmel, Monterey and Big Sur. Now you ca...   \n",
              "33437                                     Above Yosemite   \n",
              "33438  Just as Marike takes her first adult steps tow...   \n",
              "\n",
              "                                               Key_words  \n",
              "0      [wake, national, tragedies, economic, downturn...  \n",
              "1      [though, well, publicized, europe, enormous, b...  \n",
              "2      [globalisation, accelerates, tax, advantaged, ...  \n",
              "3      [exciting, anthology, provides, best, travel, ...  \n",
              "4      [demonstrating, centrality, gender, formation,...  \n",
              "...                                                  ...  \n",
              "33434  [discusses, acquiring, training, riding, horse...  \n",
              "33435  [san, francisco, bay, area, abounds, natural, ...  \n",
              "33436  [carmel, monterey, big, sur, see, fabulous, pl...  \n",
              "33437                                         [yosemite]  \n",
              "33438  [marike, takes, first, adult, steps, toward, l...  \n",
              "\n",
              "[33065 rows x 3 columns]"
            ],
            "text/html": [
              "\n",
              "  <div id=\"df-63fd3c5f-0216-4933-b8bc-e60517137b52\">\n",
              "    <div class=\"colab-df-container\">\n",
              "      <div>\n",
              "<style scoped>\n",
              "    .dataframe tbody tr th:only-of-type {\n",
              "        vertical-align: middle;\n",
              "    }\n",
              "\n",
              "    .dataframe tbody tr th {\n",
              "        vertical-align: top;\n",
              "    }\n",
              "\n",
              "    .dataframe thead th {\n",
              "        text-align: right;\n",
              "    }\n",
              "</style>\n",
              "<table border=\"1\" class=\"dataframe\">\n",
              "  <thead>\n",
              "    <tr style=\"text-align: right;\">\n",
              "      <th></th>\n",
              "      <th>Publisher</th>\n",
              "      <th>Description</th>\n",
              "      <th>Key_words</th>\n",
              "    </tr>\n",
              "  </thead>\n",
              "  <tbody>\n",
              "    <tr>\n",
              "      <th>0</th>\n",
              "      <td>[epicenterpress]</td>\n",
              "      <td>In the wake of national tragedies and an econo...</td>\n",
              "      <td>[wake, national, tragedies, economic, downturn...</td>\n",
              "    </tr>\n",
              "    <tr>\n",
              "      <th>1</th>\n",
              "      <td>[southernillinoisuniversitypress]</td>\n",
              "      <td>Though well publicized in Europe, and with eno...</td>\n",
              "      <td>[though, well, publicized, europe, enormous, b...</td>\n",
              "    </tr>\n",
              "    <tr>\n",
              "      <th>2</th>\n",
              "      <td>[practisinglawinstitute]</td>\n",
              "      <td>As globalisation accelerates, more tax-advanta...</td>\n",
              "      <td>[globalisation, accelerates, tax, advantaged, ...</td>\n",
              "    </tr>\n",
              "    <tr>\n",
              "      <th>3</th>\n",
              "      <td>[oxforduniversitypress, usa]</td>\n",
              "      <td>This exciting anthology provides the best of t...</td>\n",
              "      <td>[exciting, anthology, provides, best, travel, ...</td>\n",
              "    </tr>\n",
              "    <tr>\n",
              "      <th>4</th>\n",
              "      <td>[notavail]</td>\n",
              "      <td>Demonstrating the centrality of gender in the ...</td>\n",
              "      <td>[demonstrating, centrality, gender, formation,...</td>\n",
              "    </tr>\n",
              "    <tr>\n",
              "      <th>...</th>\n",
              "      <td>...</td>\n",
              "      <td>...</td>\n",
              "      <td>...</td>\n",
              "    </tr>\n",
              "    <tr>\n",
              "      <th>33434</th>\n",
              "      <td>[arco]</td>\n",
              "      <td>Discusses acquiring, training, and riding a ho...</td>\n",
              "      <td>[discusses, acquiring, training, riding, horse...</td>\n",
              "    </tr>\n",
              "    <tr>\n",
              "      <th>33435</th>\n",
              "      <td>[sierraclubbooks]</td>\n",
              "      <td>The San Francisco Bay Area abounds in natural ...</td>\n",
              "      <td>[san, francisco, bay, area, abounds, natural, ...</td>\n",
              "    </tr>\n",
              "    <tr>\n",
              "      <th>33436</th>\n",
              "      <td>[cameronbooks]</td>\n",
              "      <td>Above Carmel, Monterey and Big Sur. Now you ca...</td>\n",
              "      <td>[carmel, monterey, big, sur, see, fabulous, pl...</td>\n",
              "    </tr>\n",
              "    <tr>\n",
              "      <th>33437</th>\n",
              "      <td>[cameronbooks]</td>\n",
              "      <td>Above Yosemite</td>\n",
              "      <td>[yosemite]</td>\n",
              "    </tr>\n",
              "    <tr>\n",
              "      <th>33438</th>\n",
              "      <td>[thomasdunnebooks]</td>\n",
              "      <td>Just as Marike takes her first adult steps tow...</td>\n",
              "      <td>[marike, takes, first, adult, steps, toward, l...</td>\n",
              "    </tr>\n",
              "  </tbody>\n",
              "</table>\n",
              "<p>33065 rows × 3 columns</p>\n",
              "</div>\n",
              "      <button class=\"colab-df-convert\" onclick=\"convertToInteractive('df-63fd3c5f-0216-4933-b8bc-e60517137b52')\"\n",
              "              title=\"Convert this dataframe to an interactive table.\"\n",
              "              style=\"display:none;\">\n",
              "        \n",
              "  <svg xmlns=\"http://www.w3.org/2000/svg\" height=\"24px\"viewBox=\"0 0 24 24\"\n",
              "       width=\"24px\">\n",
              "    <path d=\"M0 0h24v24H0V0z\" fill=\"none\"/>\n",
              "    <path d=\"M18.56 5.44l.94 2.06.94-2.06 2.06-.94-2.06-.94-.94-2.06-.94 2.06-2.06.94zm-11 1L8.5 8.5l.94-2.06 2.06-.94-2.06-.94L8.5 2.5l-.94 2.06-2.06.94zm10 10l.94 2.06.94-2.06 2.06-.94-2.06-.94-.94-2.06-.94 2.06-2.06.94z\"/><path d=\"M17.41 7.96l-1.37-1.37c-.4-.4-.92-.59-1.43-.59-.52 0-1.04.2-1.43.59L10.3 9.45l-7.72 7.72c-.78.78-.78 2.05 0 2.83L4 21.41c.39.39.9.59 1.41.59.51 0 1.02-.2 1.41-.59l7.78-7.78 2.81-2.81c.8-.78.8-2.07 0-2.86zM5.41 20L4 18.59l7.72-7.72 1.47 1.35L5.41 20z\"/>\n",
              "  </svg>\n",
              "      </button>\n",
              "      \n",
              "  <style>\n",
              "    .colab-df-container {\n",
              "      display:flex;\n",
              "      flex-wrap:wrap;\n",
              "      gap: 12px;\n",
              "    }\n",
              "\n",
              "    .colab-df-convert {\n",
              "      background-color: #E8F0FE;\n",
              "      border: none;\n",
              "      border-radius: 50%;\n",
              "      cursor: pointer;\n",
              "      display: none;\n",
              "      fill: #1967D2;\n",
              "      height: 32px;\n",
              "      padding: 0 0 0 0;\n",
              "      width: 32px;\n",
              "    }\n",
              "\n",
              "    .colab-df-convert:hover {\n",
              "      background-color: #E2EBFA;\n",
              "      box-shadow: 0px 1px 2px rgba(60, 64, 67, 0.3), 0px 1px 3px 1px rgba(60, 64, 67, 0.15);\n",
              "      fill: #174EA6;\n",
              "    }\n",
              "\n",
              "    [theme=dark] .colab-df-convert {\n",
              "      background-color: #3B4455;\n",
              "      fill: #D2E3FC;\n",
              "    }\n",
              "\n",
              "    [theme=dark] .colab-df-convert:hover {\n",
              "      background-color: #434B5C;\n",
              "      box-shadow: 0px 1px 3px 1px rgba(0, 0, 0, 0.15);\n",
              "      filter: drop-shadow(0px 1px 2px rgba(0, 0, 0, 0.3));\n",
              "      fill: #FFFFFF;\n",
              "    }\n",
              "  </style>\n",
              "\n",
              "      <script>\n",
              "        const buttonEl =\n",
              "          document.querySelector('#df-63fd3c5f-0216-4933-b8bc-e60517137b52 button.colab-df-convert');\n",
              "        buttonEl.style.display =\n",
              "          google.colab.kernel.accessAllowed ? 'block' : 'none';\n",
              "\n",
              "        async function convertToInteractive(key) {\n",
              "          const element = document.querySelector('#df-63fd3c5f-0216-4933-b8bc-e60517137b52');\n",
              "          const dataTable =\n",
              "            await google.colab.kernel.invokeFunction('convertToInteractive',\n",
              "                                                     [key], {});\n",
              "          if (!dataTable) return;\n",
              "\n",
              "          const docLinkHtml = 'Like what you see? Visit the ' +\n",
              "            '<a target=\"_blank\" href=https://colab.research.google.com/notebooks/data_table.ipynb>data table notebook</a>'\n",
              "            + ' to learn more about interactive tables.';\n",
              "          element.innerHTML = '';\n",
              "          dataTable['output_type'] = 'display_data';\n",
              "          await google.colab.output.renderOutput(dataTable, element);\n",
              "          const docLink = document.createElement('div');\n",
              "          docLink.innerHTML = docLinkHtml;\n",
              "          element.appendChild(docLink);\n",
              "        }\n",
              "      </script>\n",
              "    </div>\n",
              "  </div>\n",
              "  "
            ]
          },
          "metadata": {},
          "execution_count": 24
        }
      ]
    },
    {
      "cell_type": "code",
      "source": [
        "df['Bag_of_words'] = ''\n",
        "columns = ['Publisher',  'Key_words']\n",
        "for index, row in df.iterrows():\n",
        "    words = ''\n",
        "    for col in columns:\n",
        "        words += ''.join(row[col]) + ' '\n",
        "    row['Bag_of_words'] = words\n",
        "\n",
        "df = df[['Publisher','Bag_of_words']]"
      ],
      "metadata": {
        "id": "NVKd68j7uDsP"
      },
      "id": "NVKd68j7uDsP",
      "execution_count": null,
      "outputs": []
    },
    {
      "cell_type": "code",
      "source": [
        "df"
      ],
      "metadata": {
        "colab": {
          "base_uri": "https://localhost:8080/",
          "height": 423
        },
        "id": "lGxP3XUdfnRT",
        "outputId": "8fb52ef5-2bea-4fe4-a3a0-8e52f068d13b"
      },
      "id": "lGxP3XUdfnRT",
      "execution_count": null,
      "outputs": [
        {
          "output_type": "execute_result",
          "data": {
            "text/plain": [
              "                                Publisher  \\\n",
              "0                         Epicenter Press   \n",
              "1      Southern Illinois University Press   \n",
              "2                Practising Law Institute   \n",
              "3            Oxford University Press, USA   \n",
              "4                               Not Avail   \n",
              "...                                   ...   \n",
              "33434                                ARCO   \n",
              "33435                   Sierra Club Books   \n",
              "33436                       Cameron Books   \n",
              "33437                       Cameron Books   \n",
              "33438                  Thomas Dunne Books   \n",
              "\n",
              "                                            Bag_of_words  \n",
              "0      E p i c e n t e r   P r e s s wake national tr...  \n",
              "1      S o u t h e r n   I l l i n o i s   U n i v e ...  \n",
              "2      P r a c t i s i n g   L a w   I n s t i t u t ...  \n",
              "3      O x f o r d   U n i v e r s i t y   P r e s s ...  \n",
              "4      N o t   A v a i l demonstrating centrality gen...  \n",
              "...                                                  ...  \n",
              "33434  A R C O discusses acquiring training riding ho...  \n",
              "33435  S i e r r a   C l u b   B o o k s san francisc...  \n",
              "33436  C a m e r o n   B o o k s carmel monterey big ...  \n",
              "33437                C a m e r o n   B o o k s yosemite   \n",
              "33438  T h o m a s   D u n n e   B o o k s marike tak...  \n",
              "\n",
              "[33065 rows x 2 columns]"
            ],
            "text/html": [
              "\n",
              "  <div id=\"df-2f682f85-0f6c-4837-95f9-be3444c710ce\">\n",
              "    <div class=\"colab-df-container\">\n",
              "      <div>\n",
              "<style scoped>\n",
              "    .dataframe tbody tr th:only-of-type {\n",
              "        vertical-align: middle;\n",
              "    }\n",
              "\n",
              "    .dataframe tbody tr th {\n",
              "        vertical-align: top;\n",
              "    }\n",
              "\n",
              "    .dataframe thead th {\n",
              "        text-align: right;\n",
              "    }\n",
              "</style>\n",
              "<table border=\"1\" class=\"dataframe\">\n",
              "  <thead>\n",
              "    <tr style=\"text-align: right;\">\n",
              "      <th></th>\n",
              "      <th>Publisher</th>\n",
              "      <th>Bag_of_words</th>\n",
              "    </tr>\n",
              "  </thead>\n",
              "  <tbody>\n",
              "    <tr>\n",
              "      <th>0</th>\n",
              "      <td>Epicenter Press</td>\n",
              "      <td>E p i c e n t e r   P r e s s wake national tr...</td>\n",
              "    </tr>\n",
              "    <tr>\n",
              "      <th>1</th>\n",
              "      <td>Southern Illinois University Press</td>\n",
              "      <td>S o u t h e r n   I l l i n o i s   U n i v e ...</td>\n",
              "    </tr>\n",
              "    <tr>\n",
              "      <th>2</th>\n",
              "      <td>Practising Law Institute</td>\n",
              "      <td>P r a c t i s i n g   L a w   I n s t i t u t ...</td>\n",
              "    </tr>\n",
              "    <tr>\n",
              "      <th>3</th>\n",
              "      <td>Oxford University Press, USA</td>\n",
              "      <td>O x f o r d   U n i v e r s i t y   P r e s s ...</td>\n",
              "    </tr>\n",
              "    <tr>\n",
              "      <th>4</th>\n",
              "      <td>Not Avail</td>\n",
              "      <td>N o t   A v a i l demonstrating centrality gen...</td>\n",
              "    </tr>\n",
              "    <tr>\n",
              "      <th>...</th>\n",
              "      <td>...</td>\n",
              "      <td>...</td>\n",
              "    </tr>\n",
              "    <tr>\n",
              "      <th>33434</th>\n",
              "      <td>ARCO</td>\n",
              "      <td>A R C O discusses acquiring training riding ho...</td>\n",
              "    </tr>\n",
              "    <tr>\n",
              "      <th>33435</th>\n",
              "      <td>Sierra Club Books</td>\n",
              "      <td>S i e r r a   C l u b   B o o k s san francisc...</td>\n",
              "    </tr>\n",
              "    <tr>\n",
              "      <th>33436</th>\n",
              "      <td>Cameron Books</td>\n",
              "      <td>C a m e r o n   B o o k s carmel monterey big ...</td>\n",
              "    </tr>\n",
              "    <tr>\n",
              "      <th>33437</th>\n",
              "      <td>Cameron Books</td>\n",
              "      <td>C a m e r o n   B o o k s yosemite</td>\n",
              "    </tr>\n",
              "    <tr>\n",
              "      <th>33438</th>\n",
              "      <td>Thomas Dunne Books</td>\n",
              "      <td>T h o m a s   D u n n e   B o o k s marike tak...</td>\n",
              "    </tr>\n",
              "  </tbody>\n",
              "</table>\n",
              "<p>33065 rows × 2 columns</p>\n",
              "</div>\n",
              "      <button class=\"colab-df-convert\" onclick=\"convertToInteractive('df-2f682f85-0f6c-4837-95f9-be3444c710ce')\"\n",
              "              title=\"Convert this dataframe to an interactive table.\"\n",
              "              style=\"display:none;\">\n",
              "        \n",
              "  <svg xmlns=\"http://www.w3.org/2000/svg\" height=\"24px\"viewBox=\"0 0 24 24\"\n",
              "       width=\"24px\">\n",
              "    <path d=\"M0 0h24v24H0V0z\" fill=\"none\"/>\n",
              "    <path d=\"M18.56 5.44l.94 2.06.94-2.06 2.06-.94-2.06-.94-.94-2.06-.94 2.06-2.06.94zm-11 1L8.5 8.5l.94-2.06 2.06-.94-2.06-.94L8.5 2.5l-.94 2.06-2.06.94zm10 10l.94 2.06.94-2.06 2.06-.94-2.06-.94-.94-2.06-.94 2.06-2.06.94z\"/><path d=\"M17.41 7.96l-1.37-1.37c-.4-.4-.92-.59-1.43-.59-.52 0-1.04.2-1.43.59L10.3 9.45l-7.72 7.72c-.78.78-.78 2.05 0 2.83L4 21.41c.39.39.9.59 1.41.59.51 0 1.02-.2 1.41-.59l7.78-7.78 2.81-2.81c.8-.78.8-2.07 0-2.86zM5.41 20L4 18.59l7.72-7.72 1.47 1.35L5.41 20z\"/>\n",
              "  </svg>\n",
              "      </button>\n",
              "      \n",
              "  <style>\n",
              "    .colab-df-container {\n",
              "      display:flex;\n",
              "      flex-wrap:wrap;\n",
              "      gap: 12px;\n",
              "    }\n",
              "\n",
              "    .colab-df-convert {\n",
              "      background-color: #E8F0FE;\n",
              "      border: none;\n",
              "      border-radius: 50%;\n",
              "      cursor: pointer;\n",
              "      display: none;\n",
              "      fill: #1967D2;\n",
              "      height: 32px;\n",
              "      padding: 0 0 0 0;\n",
              "      width: 32px;\n",
              "    }\n",
              "\n",
              "    .colab-df-convert:hover {\n",
              "      background-color: #E2EBFA;\n",
              "      box-shadow: 0px 1px 2px rgba(60, 64, 67, 0.3), 0px 1px 3px 1px rgba(60, 64, 67, 0.15);\n",
              "      fill: #174EA6;\n",
              "    }\n",
              "\n",
              "    [theme=dark] .colab-df-convert {\n",
              "      background-color: #3B4455;\n",
              "      fill: #D2E3FC;\n",
              "    }\n",
              "\n",
              "    [theme=dark] .colab-df-convert:hover {\n",
              "      background-color: #434B5C;\n",
              "      box-shadow: 0px 1px 3px 1px rgba(0, 0, 0, 0.15);\n",
              "      filter: drop-shadow(0px 1px 2px rgba(0, 0, 0, 0.3));\n",
              "      fill: #FFFFFF;\n",
              "    }\n",
              "  </style>\n",
              "\n",
              "      <script>\n",
              "        const buttonEl =\n",
              "          document.querySelector('#df-2f682f85-0f6c-4837-95f9-be3444c710ce button.colab-df-convert');\n",
              "        buttonEl.style.display =\n",
              "          google.colab.kernel.accessAllowed ? 'block' : 'none';\n",
              "\n",
              "        async function convertToInteractive(key) {\n",
              "          const element = document.querySelector('#df-2f682f85-0f6c-4837-95f9-be3444c710ce');\n",
              "          const dataTable =\n",
              "            await google.colab.kernel.invokeFunction('convertToInteractive',\n",
              "                                                     [key], {});\n",
              "          if (!dataTable) return;\n",
              "\n",
              "          const docLinkHtml = 'Like what you see? Visit the ' +\n",
              "            '<a target=\"_blank\" href=https://colab.research.google.com/notebooks/data_table.ipynb>data table notebook</a>'\n",
              "            + ' to learn more about interactive tables.';\n",
              "          element.innerHTML = '';\n",
              "          dataTable['output_type'] = 'display_data';\n",
              "          await google.colab.output.renderOutput(dataTable, element);\n",
              "          const docLink = document.createElement('div');\n",
              "          docLink.innerHTML = docLinkHtml;\n",
              "          element.appendChild(docLink);\n",
              "        }\n",
              "      </script>\n",
              "    </div>\n",
              "  </div>\n",
              "  "
            ]
          },
          "metadata": {},
          "execution_count": 56
        }
      ]
    },
    {
      "cell_type": "code",
      "source": [
        "df\n",
        "import nltk\n",
        "nltk.download(\"punkt\")"
      ],
      "metadata": {
        "id": "Pt7Zaqaax4PQ",
        "colab": {
          "base_uri": "https://localhost:8080/"
        },
        "outputId": "3c227364-9298-4932-829d-ab58a334279b"
      },
      "id": "Pt7Zaqaax4PQ",
      "execution_count": null,
      "outputs": [
        {
          "output_type": "stream",
          "name": "stderr",
          "text": [
            "[nltk_data] Downloading package punkt to /root/nltk_data...\n",
            "[nltk_data]   Package punkt is already up-to-date!\n"
          ]
        },
        {
          "output_type": "execute_result",
          "data": {
            "text/plain": [
              "True"
            ]
          },
          "metadata": {},
          "execution_count": 57
        }
      ]
    },
    {
      "cell_type": "code",
      "source": [
        "df['Bag_of_words'] = df['Bag_of_words'][0:1000]"
      ],
      "metadata": {
        "colab": {
          "base_uri": "https://localhost:8080/"
        },
        "id": "PSN1YrTZYisx",
        "outputId": "4c20965a-b05b-434f-e207-749199e10b05"
      },
      "id": "PSN1YrTZYisx",
      "execution_count": null,
      "outputs": [
        {
          "output_type": "stream",
          "name": "stderr",
          "text": [
            "/usr/local/lib/python3.7/dist-packages/ipykernel_launcher.py:1: SettingWithCopyWarning: \n",
            "A value is trying to be set on a copy of a slice from a DataFrame.\n",
            "Try using .loc[row_indexer,col_indexer] = value instead\n",
            "\n",
            "See the caveats in the documentation: https://pandas.pydata.org/pandas-docs/stable/user_guide/indexing.html#returning-a-view-versus-a-copy\n",
            "  \"\"\"Entry point for launching an IPython kernel.\n"
          ]
        }
      ]
    },
    {
      "cell_type": "code",
      "source": [
        "df.describe()"
      ],
      "metadata": {
        "colab": {
          "base_uri": "https://localhost:8080/",
          "height": 175
        },
        "id": "EO8iDBddZFY0",
        "outputId": "bf5d0d89-e3ee-43e5-e91b-5fac13c2f949"
      },
      "id": "EO8iDBddZFY0",
      "execution_count": null,
      "outputs": [
        {
          "output_type": "execute_result",
          "data": {
            "text/plain": [
              "        Publisher                                       Bag_of_words\n",
              "count       33065                                               1000\n",
              "unique       7234                                                997\n",
              "top     Routledge  K e s s i n g e r   P u b l i s h i n g scarce...\n",
              "freq          532                                                  3"
            ],
            "text/html": [
              "\n",
              "  <div id=\"df-ff9083e0-3845-4f22-b386-da3f5cc35dfd\">\n",
              "    <div class=\"colab-df-container\">\n",
              "      <div>\n",
              "<style scoped>\n",
              "    .dataframe tbody tr th:only-of-type {\n",
              "        vertical-align: middle;\n",
              "    }\n",
              "\n",
              "    .dataframe tbody tr th {\n",
              "        vertical-align: top;\n",
              "    }\n",
              "\n",
              "    .dataframe thead th {\n",
              "        text-align: right;\n",
              "    }\n",
              "</style>\n",
              "<table border=\"1\" class=\"dataframe\">\n",
              "  <thead>\n",
              "    <tr style=\"text-align: right;\">\n",
              "      <th></th>\n",
              "      <th>Publisher</th>\n",
              "      <th>Bag_of_words</th>\n",
              "    </tr>\n",
              "  </thead>\n",
              "  <tbody>\n",
              "    <tr>\n",
              "      <th>count</th>\n",
              "      <td>33065</td>\n",
              "      <td>1000</td>\n",
              "    </tr>\n",
              "    <tr>\n",
              "      <th>unique</th>\n",
              "      <td>7234</td>\n",
              "      <td>997</td>\n",
              "    </tr>\n",
              "    <tr>\n",
              "      <th>top</th>\n",
              "      <td>Routledge</td>\n",
              "      <td>K e s s i n g e r   P u b l i s h i n g scarce...</td>\n",
              "    </tr>\n",
              "    <tr>\n",
              "      <th>freq</th>\n",
              "      <td>532</td>\n",
              "      <td>3</td>\n",
              "    </tr>\n",
              "  </tbody>\n",
              "</table>\n",
              "</div>\n",
              "      <button class=\"colab-df-convert\" onclick=\"convertToInteractive('df-ff9083e0-3845-4f22-b386-da3f5cc35dfd')\"\n",
              "              title=\"Convert this dataframe to an interactive table.\"\n",
              "              style=\"display:none;\">\n",
              "        \n",
              "  <svg xmlns=\"http://www.w3.org/2000/svg\" height=\"24px\"viewBox=\"0 0 24 24\"\n",
              "       width=\"24px\">\n",
              "    <path d=\"M0 0h24v24H0V0z\" fill=\"none\"/>\n",
              "    <path d=\"M18.56 5.44l.94 2.06.94-2.06 2.06-.94-2.06-.94-.94-2.06-.94 2.06-2.06.94zm-11 1L8.5 8.5l.94-2.06 2.06-.94-2.06-.94L8.5 2.5l-.94 2.06-2.06.94zm10 10l.94 2.06.94-2.06 2.06-.94-2.06-.94-.94-2.06-.94 2.06-2.06.94z\"/><path d=\"M17.41 7.96l-1.37-1.37c-.4-.4-.92-.59-1.43-.59-.52 0-1.04.2-1.43.59L10.3 9.45l-7.72 7.72c-.78.78-.78 2.05 0 2.83L4 21.41c.39.39.9.59 1.41.59.51 0 1.02-.2 1.41-.59l7.78-7.78 2.81-2.81c.8-.78.8-2.07 0-2.86zM5.41 20L4 18.59l7.72-7.72 1.47 1.35L5.41 20z\"/>\n",
              "  </svg>\n",
              "      </button>\n",
              "      \n",
              "  <style>\n",
              "    .colab-df-container {\n",
              "      display:flex;\n",
              "      flex-wrap:wrap;\n",
              "      gap: 12px;\n",
              "    }\n",
              "\n",
              "    .colab-df-convert {\n",
              "      background-color: #E8F0FE;\n",
              "      border: none;\n",
              "      border-radius: 50%;\n",
              "      cursor: pointer;\n",
              "      display: none;\n",
              "      fill: #1967D2;\n",
              "      height: 32px;\n",
              "      padding: 0 0 0 0;\n",
              "      width: 32px;\n",
              "    }\n",
              "\n",
              "    .colab-df-convert:hover {\n",
              "      background-color: #E2EBFA;\n",
              "      box-shadow: 0px 1px 2px rgba(60, 64, 67, 0.3), 0px 1px 3px 1px rgba(60, 64, 67, 0.15);\n",
              "      fill: #174EA6;\n",
              "    }\n",
              "\n",
              "    [theme=dark] .colab-df-convert {\n",
              "      background-color: #3B4455;\n",
              "      fill: #D2E3FC;\n",
              "    }\n",
              "\n",
              "    [theme=dark] .colab-df-convert:hover {\n",
              "      background-color: #434B5C;\n",
              "      box-shadow: 0px 1px 3px 1px rgba(0, 0, 0, 0.15);\n",
              "      filter: drop-shadow(0px 1px 2px rgba(0, 0, 0, 0.3));\n",
              "      fill: #FFFFFF;\n",
              "    }\n",
              "  </style>\n",
              "\n",
              "      <script>\n",
              "        const buttonEl =\n",
              "          document.querySelector('#df-ff9083e0-3845-4f22-b386-da3f5cc35dfd button.colab-df-convert');\n",
              "        buttonEl.style.display =\n",
              "          google.colab.kernel.accessAllowed ? 'block' : 'none';\n",
              "\n",
              "        async function convertToInteractive(key) {\n",
              "          const element = document.querySelector('#df-ff9083e0-3845-4f22-b386-da3f5cc35dfd');\n",
              "          const dataTable =\n",
              "            await google.colab.kernel.invokeFunction('convertToInteractive',\n",
              "                                                     [key], {});\n",
              "          if (!dataTable) return;\n",
              "\n",
              "          const docLinkHtml = 'Like what you see? Visit the ' +\n",
              "            '<a target=\"_blank\" href=https://colab.research.google.com/notebooks/data_table.ipynb>data table notebook</a>'\n",
              "            + ' to learn more about interactive tables.';\n",
              "          element.innerHTML = '';\n",
              "          dataTable['output_type'] = 'display_data';\n",
              "          await google.colab.output.renderOutput(dataTable, element);\n",
              "          const docLink = document.createElement('div');\n",
              "          docLink.innerHTML = docLinkHtml;\n",
              "          element.appendChild(docLink);\n",
              "        }\n",
              "      </script>\n",
              "    </div>\n",
              "  </div>\n",
              "  "
            ]
          },
          "metadata": {},
          "execution_count": 59
        }
      ]
    },
    {
      "cell_type": "code",
      "source": [
        "df.dropna(inplace = True)"
      ],
      "metadata": {
        "colab": {
          "base_uri": "https://localhost:8080/"
        },
        "id": "pKz0_GlYZPMF",
        "outputId": "f10a010c-0f02-4157-9489-1bd223c1ce02"
      },
      "id": "pKz0_GlYZPMF",
      "execution_count": null,
      "outputs": [
        {
          "output_type": "stream",
          "name": "stderr",
          "text": [
            "/usr/local/lib/python3.7/dist-packages/pandas/util/_decorators.py:311: SettingWithCopyWarning: \n",
            "A value is trying to be set on a copy of a slice from a DataFrame\n",
            "\n",
            "See the caveats in the documentation: https://pandas.pydata.org/pandas-docs/stable/user_guide/indexing.html#returning-a-view-versus-a-copy\n",
            "  return func(*args, **kwargs)\n"
          ]
        }
      ]
    },
    {
      "cell_type": "code",
      "source": [
        "df.describe()"
      ],
      "metadata": {
        "colab": {
          "base_uri": "https://localhost:8080/",
          "height": 175
        },
        "id": "JM0jd9nfZT1U",
        "outputId": "ef2622b3-bea6-4927-c919-02a2e5015ce5"
      },
      "id": "JM0jd9nfZT1U",
      "execution_count": null,
      "outputs": [
        {
          "output_type": "execute_result",
          "data": {
            "text/plain": [
              "        Publisher                                       Bag_of_words\n",
              "count        1000                                               1000\n",
              "unique        651                                                997\n",
              "top     Routledge  K e s s i n g e r   P u b l i s h i n g scarce...\n",
              "freq           16                                                  3"
            ],
            "text/html": [
              "\n",
              "  <div id=\"df-a048c80c-4957-4f98-9441-3abdd8978a8c\">\n",
              "    <div class=\"colab-df-container\">\n",
              "      <div>\n",
              "<style scoped>\n",
              "    .dataframe tbody tr th:only-of-type {\n",
              "        vertical-align: middle;\n",
              "    }\n",
              "\n",
              "    .dataframe tbody tr th {\n",
              "        vertical-align: top;\n",
              "    }\n",
              "\n",
              "    .dataframe thead th {\n",
              "        text-align: right;\n",
              "    }\n",
              "</style>\n",
              "<table border=\"1\" class=\"dataframe\">\n",
              "  <thead>\n",
              "    <tr style=\"text-align: right;\">\n",
              "      <th></th>\n",
              "      <th>Publisher</th>\n",
              "      <th>Bag_of_words</th>\n",
              "    </tr>\n",
              "  </thead>\n",
              "  <tbody>\n",
              "    <tr>\n",
              "      <th>count</th>\n",
              "      <td>1000</td>\n",
              "      <td>1000</td>\n",
              "    </tr>\n",
              "    <tr>\n",
              "      <th>unique</th>\n",
              "      <td>651</td>\n",
              "      <td>997</td>\n",
              "    </tr>\n",
              "    <tr>\n",
              "      <th>top</th>\n",
              "      <td>Routledge</td>\n",
              "      <td>K e s s i n g e r   P u b l i s h i n g scarce...</td>\n",
              "    </tr>\n",
              "    <tr>\n",
              "      <th>freq</th>\n",
              "      <td>16</td>\n",
              "      <td>3</td>\n",
              "    </tr>\n",
              "  </tbody>\n",
              "</table>\n",
              "</div>\n",
              "      <button class=\"colab-df-convert\" onclick=\"convertToInteractive('df-a048c80c-4957-4f98-9441-3abdd8978a8c')\"\n",
              "              title=\"Convert this dataframe to an interactive table.\"\n",
              "              style=\"display:none;\">\n",
              "        \n",
              "  <svg xmlns=\"http://www.w3.org/2000/svg\" height=\"24px\"viewBox=\"0 0 24 24\"\n",
              "       width=\"24px\">\n",
              "    <path d=\"M0 0h24v24H0V0z\" fill=\"none\"/>\n",
              "    <path d=\"M18.56 5.44l.94 2.06.94-2.06 2.06-.94-2.06-.94-.94-2.06-.94 2.06-2.06.94zm-11 1L8.5 8.5l.94-2.06 2.06-.94-2.06-.94L8.5 2.5l-.94 2.06-2.06.94zm10 10l.94 2.06.94-2.06 2.06-.94-2.06-.94-.94-2.06-.94 2.06-2.06.94z\"/><path d=\"M17.41 7.96l-1.37-1.37c-.4-.4-.92-.59-1.43-.59-.52 0-1.04.2-1.43.59L10.3 9.45l-7.72 7.72c-.78.78-.78 2.05 0 2.83L4 21.41c.39.39.9.59 1.41.59.51 0 1.02-.2 1.41-.59l7.78-7.78 2.81-2.81c.8-.78.8-2.07 0-2.86zM5.41 20L4 18.59l7.72-7.72 1.47 1.35L5.41 20z\"/>\n",
              "  </svg>\n",
              "      </button>\n",
              "      \n",
              "  <style>\n",
              "    .colab-df-container {\n",
              "      display:flex;\n",
              "      flex-wrap:wrap;\n",
              "      gap: 12px;\n",
              "    }\n",
              "\n",
              "    .colab-df-convert {\n",
              "      background-color: #E8F0FE;\n",
              "      border: none;\n",
              "      border-radius: 50%;\n",
              "      cursor: pointer;\n",
              "      display: none;\n",
              "      fill: #1967D2;\n",
              "      height: 32px;\n",
              "      padding: 0 0 0 0;\n",
              "      width: 32px;\n",
              "    }\n",
              "\n",
              "    .colab-df-convert:hover {\n",
              "      background-color: #E2EBFA;\n",
              "      box-shadow: 0px 1px 2px rgba(60, 64, 67, 0.3), 0px 1px 3px 1px rgba(60, 64, 67, 0.15);\n",
              "      fill: #174EA6;\n",
              "    }\n",
              "\n",
              "    [theme=dark] .colab-df-convert {\n",
              "      background-color: #3B4455;\n",
              "      fill: #D2E3FC;\n",
              "    }\n",
              "\n",
              "    [theme=dark] .colab-df-convert:hover {\n",
              "      background-color: #434B5C;\n",
              "      box-shadow: 0px 1px 3px 1px rgba(0, 0, 0, 0.15);\n",
              "      filter: drop-shadow(0px 1px 2px rgba(0, 0, 0, 0.3));\n",
              "      fill: #FFFFFF;\n",
              "    }\n",
              "  </style>\n",
              "\n",
              "      <script>\n",
              "        const buttonEl =\n",
              "          document.querySelector('#df-a048c80c-4957-4f98-9441-3abdd8978a8c button.colab-df-convert');\n",
              "        buttonEl.style.display =\n",
              "          google.colab.kernel.accessAllowed ? 'block' : 'none';\n",
              "\n",
              "        async function convertToInteractive(key) {\n",
              "          const element = document.querySelector('#df-a048c80c-4957-4f98-9441-3abdd8978a8c');\n",
              "          const dataTable =\n",
              "            await google.colab.kernel.invokeFunction('convertToInteractive',\n",
              "                                                     [key], {});\n",
              "          if (!dataTable) return;\n",
              "\n",
              "          const docLinkHtml = 'Like what you see? Visit the ' +\n",
              "            '<a target=\"_blank\" href=https://colab.research.google.com/notebooks/data_table.ipynb>data table notebook</a>'\n",
              "            + ' to learn more about interactive tables.';\n",
              "          element.innerHTML = '';\n",
              "          dataTable['output_type'] = 'display_data';\n",
              "          await google.colab.output.renderOutput(dataTable, element);\n",
              "          const docLink = document.createElement('div');\n",
              "          docLink.innerHTML = docLinkHtml;\n",
              "          element.appendChild(docLink);\n",
              "        }\n",
              "      </script>\n",
              "    </div>\n",
              "  </div>\n",
              "  "
            ]
          },
          "metadata": {},
          "execution_count": 61
        }
      ]
    },
    {
      "cell_type": "code",
      "source": [
        "df.head()"
      ],
      "metadata": {
        "colab": {
          "base_uri": "https://localhost:8080/",
          "height": 206
        },
        "id": "519kppX9ZVUb",
        "outputId": "d0167469-738f-4f3d-f809-43381566725d"
      },
      "id": "519kppX9ZVUb",
      "execution_count": null,
      "outputs": [
        {
          "output_type": "execute_result",
          "data": {
            "text/plain": [
              "                            Publisher  \\\n",
              "0                     Epicenter Press   \n",
              "1  Southern Illinois University Press   \n",
              "2            Practising Law Institute   \n",
              "3        Oxford University Press, USA   \n",
              "4                           Not Avail   \n",
              "\n",
              "                                        Bag_of_words  \n",
              "0  E p i c e n t e r   P r e s s wake national tr...  \n",
              "1  S o u t h e r n   I l l i n o i s   U n i v e ...  \n",
              "2  P r a c t i s i n g   L a w   I n s t i t u t ...  \n",
              "3  O x f o r d   U n i v e r s i t y   P r e s s ...  \n",
              "4  N o t   A v a i l demonstrating centrality gen...  "
            ],
            "text/html": [
              "\n",
              "  <div id=\"df-81ea9768-bcb2-46ca-ace3-64940729bda1\">\n",
              "    <div class=\"colab-df-container\">\n",
              "      <div>\n",
              "<style scoped>\n",
              "    .dataframe tbody tr th:only-of-type {\n",
              "        vertical-align: middle;\n",
              "    }\n",
              "\n",
              "    .dataframe tbody tr th {\n",
              "        vertical-align: top;\n",
              "    }\n",
              "\n",
              "    .dataframe thead th {\n",
              "        text-align: right;\n",
              "    }\n",
              "</style>\n",
              "<table border=\"1\" class=\"dataframe\">\n",
              "  <thead>\n",
              "    <tr style=\"text-align: right;\">\n",
              "      <th></th>\n",
              "      <th>Publisher</th>\n",
              "      <th>Bag_of_words</th>\n",
              "    </tr>\n",
              "  </thead>\n",
              "  <tbody>\n",
              "    <tr>\n",
              "      <th>0</th>\n",
              "      <td>Epicenter Press</td>\n",
              "      <td>E p i c e n t e r   P r e s s wake national tr...</td>\n",
              "    </tr>\n",
              "    <tr>\n",
              "      <th>1</th>\n",
              "      <td>Southern Illinois University Press</td>\n",
              "      <td>S o u t h e r n   I l l i n o i s   U n i v e ...</td>\n",
              "    </tr>\n",
              "    <tr>\n",
              "      <th>2</th>\n",
              "      <td>Practising Law Institute</td>\n",
              "      <td>P r a c t i s i n g   L a w   I n s t i t u t ...</td>\n",
              "    </tr>\n",
              "    <tr>\n",
              "      <th>3</th>\n",
              "      <td>Oxford University Press, USA</td>\n",
              "      <td>O x f o r d   U n i v e r s i t y   P r e s s ...</td>\n",
              "    </tr>\n",
              "    <tr>\n",
              "      <th>4</th>\n",
              "      <td>Not Avail</td>\n",
              "      <td>N o t   A v a i l demonstrating centrality gen...</td>\n",
              "    </tr>\n",
              "  </tbody>\n",
              "</table>\n",
              "</div>\n",
              "      <button class=\"colab-df-convert\" onclick=\"convertToInteractive('df-81ea9768-bcb2-46ca-ace3-64940729bda1')\"\n",
              "              title=\"Convert this dataframe to an interactive table.\"\n",
              "              style=\"display:none;\">\n",
              "        \n",
              "  <svg xmlns=\"http://www.w3.org/2000/svg\" height=\"24px\"viewBox=\"0 0 24 24\"\n",
              "       width=\"24px\">\n",
              "    <path d=\"M0 0h24v24H0V0z\" fill=\"none\"/>\n",
              "    <path d=\"M18.56 5.44l.94 2.06.94-2.06 2.06-.94-2.06-.94-.94-2.06-.94 2.06-2.06.94zm-11 1L8.5 8.5l.94-2.06 2.06-.94-2.06-.94L8.5 2.5l-.94 2.06-2.06.94zm10 10l.94 2.06.94-2.06 2.06-.94-2.06-.94-.94-2.06-.94 2.06-2.06.94z\"/><path d=\"M17.41 7.96l-1.37-1.37c-.4-.4-.92-.59-1.43-.59-.52 0-1.04.2-1.43.59L10.3 9.45l-7.72 7.72c-.78.78-.78 2.05 0 2.83L4 21.41c.39.39.9.59 1.41.59.51 0 1.02-.2 1.41-.59l7.78-7.78 2.81-2.81c.8-.78.8-2.07 0-2.86zM5.41 20L4 18.59l7.72-7.72 1.47 1.35L5.41 20z\"/>\n",
              "  </svg>\n",
              "      </button>\n",
              "      \n",
              "  <style>\n",
              "    .colab-df-container {\n",
              "      display:flex;\n",
              "      flex-wrap:wrap;\n",
              "      gap: 12px;\n",
              "    }\n",
              "\n",
              "    .colab-df-convert {\n",
              "      background-color: #E8F0FE;\n",
              "      border: none;\n",
              "      border-radius: 50%;\n",
              "      cursor: pointer;\n",
              "      display: none;\n",
              "      fill: #1967D2;\n",
              "      height: 32px;\n",
              "      padding: 0 0 0 0;\n",
              "      width: 32px;\n",
              "    }\n",
              "\n",
              "    .colab-df-convert:hover {\n",
              "      background-color: #E2EBFA;\n",
              "      box-shadow: 0px 1px 2px rgba(60, 64, 67, 0.3), 0px 1px 3px 1px rgba(60, 64, 67, 0.15);\n",
              "      fill: #174EA6;\n",
              "    }\n",
              "\n",
              "    [theme=dark] .colab-df-convert {\n",
              "      background-color: #3B4455;\n",
              "      fill: #D2E3FC;\n",
              "    }\n",
              "\n",
              "    [theme=dark] .colab-df-convert:hover {\n",
              "      background-color: #434B5C;\n",
              "      box-shadow: 0px 1px 3px 1px rgba(0, 0, 0, 0.15);\n",
              "      filter: drop-shadow(0px 1px 2px rgba(0, 0, 0, 0.3));\n",
              "      fill: #FFFFFF;\n",
              "    }\n",
              "  </style>\n",
              "\n",
              "      <script>\n",
              "        const buttonEl =\n",
              "          document.querySelector('#df-81ea9768-bcb2-46ca-ace3-64940729bda1 button.colab-df-convert');\n",
              "        buttonEl.style.display =\n",
              "          google.colab.kernel.accessAllowed ? 'block' : 'none';\n",
              "\n",
              "        async function convertToInteractive(key) {\n",
              "          const element = document.querySelector('#df-81ea9768-bcb2-46ca-ace3-64940729bda1');\n",
              "          const dataTable =\n",
              "            await google.colab.kernel.invokeFunction('convertToInteractive',\n",
              "                                                     [key], {});\n",
              "          if (!dataTable) return;\n",
              "\n",
              "          const docLinkHtml = 'Like what you see? Visit the ' +\n",
              "            '<a target=\"_blank\" href=https://colab.research.google.com/notebooks/data_table.ipynb>data table notebook</a>'\n",
              "            + ' to learn more about interactive tables.';\n",
              "          element.innerHTML = '';\n",
              "          dataTable['output_type'] = 'display_data';\n",
              "          await google.colab.output.renderOutput(dataTable, element);\n",
              "          const docLink = document.createElement('div');\n",
              "          docLink.innerHTML = docLinkHtml;\n",
              "          element.appendChild(docLink);\n",
              "        }\n",
              "      </script>\n",
              "    </div>\n",
              "  </div>\n",
              "  "
            ]
          },
          "metadata": {},
          "execution_count": 62
        }
      ]
    },
    {
      "cell_type": "code",
      "source": [
        "from sklearn.metrics.pairwise import cosine_similarity\n",
        "from sklearn.feature_extraction.text import CountVectorizer"
      ],
      "metadata": {
        "id": "dYI-2Zmiy7Ze"
      },
      "id": "dYI-2Zmiy7Ze",
      "execution_count": null,
      "outputs": []
    },
    {
      "cell_type": "code",
      "source": [
        "count = CountVectorizer()\n",
        "count_matrix = count.fit_transform(df['Bag_of_words'])\n",
        "cosine_sim = cosine_similarity(count_matrix, count_matrix)\n",
        "print(cosine_sim)"
      ],
      "metadata": {
        "id": "LJTfvhZAyxn-",
        "colab": {
          "base_uri": "https://localhost:8080/"
        },
        "outputId": "2e7d499d-36a8-4e79-bb3e-e23e0453b657"
      },
      "id": "LJTfvhZAyxn-",
      "execution_count": null,
      "outputs": [
        {
          "output_type": "stream",
          "name": "stdout",
          "text": [
            "[[1.         0.02192382 0.05098127 ... 0.01144222 0.         0.07079923]\n",
            " [0.02192382 1.         0.         ... 0.08579311 0.         0.0221187 ]\n",
            " [0.05098127 0.         1.         ... 0.03325031 0.         0.05143445]\n",
            " ...\n",
            " [0.01144222 0.08579311 0.03325031 ... 1.         0.         0.02308785]\n",
            " [0.         0.         0.         ... 0.         1.         0.        ]\n",
            " [0.07079923 0.0221187  0.05143445 ... 0.02308785 0.         1.        ]]\n"
          ]
        }
      ]
    },
    {
      "cell_type": "code",
      "source": [
        "indices = pd.Series(df['Publisher'])"
      ],
      "metadata": {
        "id": "dQe4Plb8cMq5"
      },
      "id": "dQe4Plb8cMq5",
      "execution_count": null,
      "outputs": []
    },
    {
      "cell_type": "code",
      "source": [
        "indices[100]"
      ],
      "metadata": {
        "colab": {
          "base_uri": "https://localhost:8080/",
          "height": 36
        },
        "id": "1kUmCIg3cQ78",
        "outputId": "d3fa5e57-765a-4c16-9b7e-1fe143392353"
      },
      "id": "1kUmCIg3cQ78",
      "execution_count": null,
      "outputs": [
        {
          "output_type": "execute_result",
          "data": {
            "text/plain": [
              "'Lark Books (NC)'"
            ],
            "application/vnd.google.colaboratory.intrinsic+json": {
              "type": "string"
            }
          },
          "metadata": {},
          "execution_count": 66
        }
      ]
    },
    {
      "cell_type": "code",
      "source": [
        " idx = indices[indices == 'Lark Books (NC)']\n",
        " idx"
      ],
      "metadata": {
        "colab": {
          "base_uri": "https://localhost:8080/"
        },
        "id": "_l7wltx0kgtN",
        "outputId": "b1efda4a-0722-4fb5-8d95-8a489bbc19e9"
      },
      "id": "_l7wltx0kgtN",
      "execution_count": null,
      "outputs": [
        {
          "output_type": "execute_result",
          "data": {
            "text/plain": [
              "100    Lark Books (NC)\n",
              "Name: Publisher, dtype: object"
            ]
          },
          "metadata": {},
          "execution_count": 67
        }
      ]
    },
    {
      "cell_type": "code",
      "source": [
        "df['Publisher'],df['Bag_of_words']"
      ],
      "metadata": {
        "colab": {
          "base_uri": "https://localhost:8080/"
        },
        "id": "q9yEccp-fKV8",
        "outputId": "18355597-700e-46bd-b7bd-088a11d5e53e"
      },
      "id": "q9yEccp-fKV8",
      "execution_count": null,
      "outputs": [
        {
          "output_type": "execute_result",
          "data": {
            "text/plain": [
              "(0                          Epicenter Press\n",
              " 1       Southern Illinois University Press\n",
              " 2                 Practising Law Institute\n",
              " 3             Oxford University Press, USA\n",
              " 4                                Not Avail\n",
              "                        ...                \n",
              " 1004                  G. K. Hall & Company\n",
              " 1005                  G. K. Hall & Company\n",
              " 1006              Harvard University Press\n",
              " 1007                    Harlequin Intrigue\n",
              " 1008                               Harmony\n",
              " Name: Publisher, Length: 1000, dtype: object,\n",
              " 0       E p i c e n t e r   P r e s s wake national tr...\n",
              " 1       S o u t h e r n   I l l i n o i s   U n i v e ...\n",
              " 2       P r a c t i s i n g   L a w   I n s t i t u t ...\n",
              " 3       O x f o r d   U n i v e r s i t y   P r e s s ...\n",
              " 4       N o t   A v a i l demonstrating centrality gen...\n",
              "                               ...                        \n",
              " 1004    G .   K .   H a l l   &   C o m p a n y vintag...\n",
              " 1005    G .   K .   H a l l   &   C o m p a n y lawren...\n",
              " 1006    H a r v a r d   U n i v e r s i t y   P r e s ...\n",
              " 1007    H a r l e q u i n   I n t r i g u e darkness c...\n",
              " 1008    H a r m o n y latest collection essays gould o...\n",
              " Name: Bag_of_words, Length: 1000, dtype: object)"
            ]
          },
          "metadata": {},
          "execution_count": 68
        }
      ]
    },
    {
      "cell_type": "code",
      "source": [
        "def recommend(title, cosine_sim = cosine_sim):\n",
        "    recommended_movies = []\n",
        "    idx = indices[indices == title]\n",
        "    score_series = pd.Series(cosine_sim[idx]).sort_values(ascending = False)\n",
        "    top_10_indices = list(score_series.iloc[1:11].index)\n",
        "\n",
        "    for i in top_10_indices:\n",
        "        recommended_movies.append(list(df['Title'])[i])\n",
        "\n",
        "    return recommended_movies"
      ],
      "metadata": {
        "id": "Cg2YPgY3cQ_s"
      },
      "id": "Cg2YPgY3cQ_s",
      "execution_count": null,
      "outputs": []
    },
    {
      "cell_type": "code",
      "source": [
        "recommend('Epic center')"
      ],
      "metadata": {
        "id": "ysmtOluecRCp"
      },
      "id": "ysmtOluecRCp",
      "execution_count": null,
      "outputs": []
    },
    {
      "cell_type": "code",
      "source": [],
      "metadata": {
        "id": "mX8ZCGVXcRFX"
      },
      "id": "mX8ZCGVXcRFX",
      "execution_count": null,
      "outputs": []
    },
    {
      "cell_type": "code",
      "source": [
        "import nltk\n",
        "nltk.download(\"punkt\")"
      ],
      "metadata": {
        "id": "PwfnGPBNDgvE"
      },
      "id": "PwfnGPBNDgvE",
      "execution_count": null,
      "outputs": []
    },
    {
      "cell_type": "code",
      "source": [
        "!pip install word_tokenizer"
      ],
      "metadata": {
        "id": "BdwpaBrCEUh1"
      },
      "id": "BdwpaBrCEUh1",
      "execution_count": null,
      "outputs": []
    },
    {
      "cell_type": "code",
      "source": [
        "from gensim.models.word2vec import Word2Vec\n",
        "\n",
        "def is_word_in_model(word, model):\n",
        "    \"\"\"\n",
        "    Check on individual words ``word`` that it exists in ``model``.\n",
        "    \"\"\"\n",
        "    assert type(model).__name__ == 'KeyedVectors'\n",
        "    is_in_vocab = word in model.key_to_index.keys()\n",
        "    return is_in_vocab\n",
        "\n",
        "def predict_w2v(query_sentence, dataset, model, topk=3):\n",
        "    query_sentence = query_sentence.split()\n",
        "    in_vocab_list, best_index = [], [0]*topk\n",
        "    for w in query_sentence:\n",
        "        # remove unseen words from query sentence\n",
        "        if is_word_in_model(w, model.wv):\n",
        "            in_vocab_list.append(w)\n",
        "    # Retrieve the similarity between two words as a distance\n",
        "    if len(in_vocab_list) > 0:\n",
        "        sim_mat = np.zeros(len(dataset))  # TO DO\n",
        "        for i, data_sentence in enumerate(dataset):\n",
        "            if data_sentence:\n",
        "                sim_sentence = model.wv.n_similarity(\n",
        "                        in_vocab_list, data_sentence)\n",
        "            else:\n",
        "                sim_sentence = 0\n",
        "            sim_mat[i] = np.array(sim_sentence)\n",
        "        # Take the five highest norm\n",
        "        best_index = np.argsort(sim_mat)[::-1][:topk]\n",
        "    return best_index\n",
        "\n",
        "# Create model\n",
        "word2vec_model = Word2Vec(min_count=0, workers = 8)\n",
        "# Prepare vocab\n",
        "word2vec_model.build_vocab(df.Bag_of_words.values)\n",
        "# Train\n",
        "word2vec_model.train(df.Bag_of_words.values, total_examples=word2vec_model.corpus_count, epochs=30)\n",
        "\n",
        "# Predict\n",
        "\n"
      ],
      "metadata": {
        "id": "sjbAsnvCEMBR"
      },
      "id": "sjbAsnvCEMBR",
      "execution_count": null,
      "outputs": []
    },
    {
      "cell_type": "code",
      "source": [
        "best_index = predict(test_sentence, df['tok_lem_sentence'].values, word2vec_model)\n",
        "display(df[['original_title', 'genres', 'sentence']].iloc[best_index])"
      ],
      "metadata": {
        "id": "2zEEUAz7GSv7"
      },
      "id": "2zEEUAz7GSv7",
      "execution_count": null,
      "outputs": []
    },
    {
      "cell_type": "code",
      "source": [
        "from nltk.stem import WordNetLemmatizer\n",
        "stemmer = WordNetLemmatizer()\n",
        "[stemmer.lemmatize(w) for w in word_tokenize(sentence)]"
      ],
      "metadata": {
        "id": "lfpOf5ksEjH0"
      },
      "id": "lfpOf5ksEjH0",
      "execution_count": null,
      "outputs": []
    },
    {
      "cell_type": "code",
      "source": [],
      "metadata": {
        "id": "tIbhXXGMHRZ2"
      },
      "id": "tIbhXXGMHRZ2",
      "execution_count": null,
      "outputs": []
    },
    {
      "cell_type": "code",
      "source": [
        "from sklearn.feature_extraction.text import TfidfVectorizer\n",
        "from sklearn.metrics.pairwise import cosine_similarity\n",
        "import numpy as np\n",
        "\n",
        "\n",
        "def get_recommendations_tfidf(sentence, tfidf_mat):\n",
        "\n",
        "    \"\"\"\n",
        "    Return the database sentences in order of highest cosine similarity relatively to each\n",
        "    token of the target sentence.\n",
        "    \"\"\"\n",
        "    # Embed the query sentence\n",
        "    tokens_query = [str(tok) for tok in df(sentence)]\n",
        "    embed_query = vectorizer.transform(tokens_query)\n",
        "    # Create list with similarity between query and dataset\n",
        "    mat = cosine_similarity(embed_query, tfidf_mat)\n",
        "    # Best cosine distance for each token independantly\n",
        "    best_index = extract_best_indices(mat, topk=3)\n",
        "    return best_index\n",
        "\n",
        "# Adapt stop words\n",
        "token_stop = tokenizer(' '.join(stop_words), lemmatize=False)\n",
        "\n",
        "# Fit TFIDF\n",
        "vectorizer = TfidfVectorizer(stop_words=token_stop, tokenizer=tokenizer)\n",
        "tfidf_mat = vectorizer.fit_transform(df['sentence'].values) # -> (num_sentences, num_vocabulary)\n",
        "\n",
        "# Return best threee matches between query and dataset\n",
        "test_sentence = 'a crime story with a beautiful woman'\n",
        "best_index = get_recommendations_tfidf(test_sentence, tfidf_mat)\n",
        "\n",
        "display(df[['original_title', 'genres', 'sentence']].iloc[best_index])"
      ],
      "metadata": {
        "id": "rOCzAv0Fyxq7"
      },
      "id": "rOCzAv0Fyxq7",
      "execution_count": null,
      "outputs": []
    },
    {
      "cell_type": "code",
      "source": [
        "from sklearn.metrics.pairwise import cosine_similarity\n",
        "import numpy as np\n",
        "\n",
        "def extract_best_indices(m, topk, mask=None):\n",
        "    \"\"\"\n",
        "    Use sum of the cosine distance over all tokens ans return best mathes.\n",
        "    m (np.array): cos matrix of shape (nb_in_tokens, nb_dict_tokens)\n",
        "    topk (int): number of indices to return (from high to lowest in order)\n",
        "    \"\"\"\n",
        "    # return the sum on all tokens of cosinus for each sentence\n",
        "    if len(m.shape) > 1:\n",
        "        cos_sim = np.mean(m, axis=0)\n",
        "    else:\n",
        "        cos_sim = m\n",
        "    index = np.argsort(cos_sim)[::-1] # from highest idx to smallest score\n",
        "    if mask is not None:\n",
        "        assert mask.shape == m.shape\n",
        "        mask = mask[index]\n",
        "    else:\n",
        "        mask = np.ones(len(cos_sim))\n",
        "    mask = np.logical_or(cos_sim[index] != 0, mask) #eliminate 0 cosine distance\n",
        "    best_index = index[mask][:topk]\n",
        "    return best_index"
      ],
      "metadata": {
        "id": "Li7AU0IeDBbu"
      },
      "id": "Li7AU0IeDBbu",
      "execution_count": null,
      "outputs": []
    },
    {
      "cell_type": "code",
      "source": [],
      "metadata": {
        "id": "o5Q-lJgzyxtX"
      },
      "id": "o5Q-lJgzyxtX",
      "execution_count": null,
      "outputs": []
    },
    {
      "cell_type": "code",
      "source": [],
      "metadata": {
        "id": "3JTNPvyzyxwE"
      },
      "id": "3JTNPvyzyxwE",
      "execution_count": null,
      "outputs": []
    }
  ],
  "metadata": {
    "kernelspec": {
      "display_name": "Python 3 (ipykernel)",
      "language": "python",
      "name": "python3"
    },
    "language_info": {
      "codemirror_mode": {
        "name": "ipython",
        "version": 3
      },
      "file_extension": ".py",
      "mimetype": "text/x-python",
      "name": "python",
      "nbconvert_exporter": "python",
      "pygments_lexer": "ipython3",
      "version": "3.9.7"
    },
    "colab": {
      "provenance": [],
      "include_colab_link": true
    },
    "gpuClass": "standard"
  },
  "nbformat": 4,
  "nbformat_minor": 5
}